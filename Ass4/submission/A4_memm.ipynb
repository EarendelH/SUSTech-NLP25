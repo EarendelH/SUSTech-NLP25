{
 "cells": [
  {
   "cell_type": "markdown",
   "id": "7809a0f8",
   "metadata": {},
   "source": [
    "## CS310 Natural Language Processing\n",
    "## Assignment 4. Long Short Term Memory (LSTM) Network for Named Entity Recognition (NER)\n",
    "\n",
    "**Total points**: 50 + (10 bonus)\n",
    "\n",
    "In this assignment, you will implement a Long Short Term Memory (LSTM) network for Named Entity Recognition (NER). \n",
    "\n",
    "Re-use the code in Lab 5."
   ]
  },
  {
   "cell_type": "markdown",
   "id": "525b82a0",
   "metadata": {},
   "source": [
    "# Maximum entropy Markov model"
   ]
  },
  {
   "cell_type": "markdown",
   "id": "e2658850",
   "metadata": {},
   "source": [
    "### 0. Import Necessary Libraries"
   ]
  },
  {
   "cell_type": "code",
   "execution_count": 48,
   "id": "07cb5b03",
   "metadata": {},
   "outputs": [],
   "source": [
    "import torch\n",
    "import torch.nn as nn\n",
    "import torch.optim as optim\n",
    "from torch.utils.data import Dataset, DataLoader\n",
    "import numpy as np\n",
    "import os\n",
    "import re\n",
    "from collections import Counter, defaultdict\n",
    "import matplotlib.pyplot as plt\n",
    "from tqdm import tqdm\n",
    "import pickle\n",
    "\n",
    "from utils import Indexer, read_ner_data_from_connl, get_batch\n",
    "\n",
    "from metrics import MetricsHandler\n"
   ]
  },
  {
   "cell_type": "code",
   "execution_count": 49,
   "id": "402ce98a",
   "metadata": {},
   "outputs": [
    {
     "name": "stdout",
     "output_type": "stream",
     "text": [
      "使用设备: cuda\n"
     ]
    }
   ],
   "source": [
    "torch.manual_seed(42)\n",
    "np.random.seed(42)\n",
    "\n",
    "os.environ[\"CUDA_VISIBLE_DEVICES\"] = \"4\" \n",
    "device = torch.device('cuda' if torch.cuda.is_available() else 'cpu')\n",
    "print(f\"使用设备: {device}\")\n",
    "\n",
    "DATA_DIR = '/home/stu_12310401/nlp/SUSTech-NLP25/Ass4/data'\n",
    "GLOVE_PATH = '/home/stu_12310401/nlp/SUSTech-NLP25/Ass4/glove.6B.100d.txt'\n",
    "\n",
    "BATCH_SIZE = 128\n",
    "EMBEDDING_DIM = 100\n",
    "TAG_EMBEDDING_DIM = 50\n",
    "HIDDEN_DIM = 256\n",
    "NUM_LAYERS = 2\n",
    "DROPOUT = 0.5\n",
    "LEARNING_RATE = 0.001\n",
    "NUM_EPOCHS = 10"
   ]
  },
  {
   "cell_type": "code",
   "execution_count": 50,
   "id": "75f68e9d",
   "metadata": {},
   "outputs": [],
   "source": [
    "class NERDataset(Dataset):\n",
    "    def __init__(self, sentences, tags, word_to_idx, tag_to_idx):\n",
    "        self.sentences = sentences\n",
    "        self.tags = tags\n",
    "        self.word_to_idx = word_to_idx\n",
    "        self.tag_to_idx = tag_to_idx\n",
    "        \n",
    "    def __len__(self):\n",
    "        return len(self.sentences)\n",
    "    \n",
    "    def __getitem__(self, idx):\n",
    "        words = self.sentences[idx]\n",
    "        tags = self.tags[idx]\n",
    "        \n",
    "        word_idxs = [self.word_to_idx.get(word.lower(), self.word_to_idx['<UNK>']) for word in words]\n",
    "        tag_idxs = [self.tag_to_idx[tag] for tag in tags]\n",
    "        \n",
    "        return torch.tensor(word_idxs), torch.tensor(tag_idxs)"
   ]
  },
  {
   "cell_type": "code",
   "execution_count": 51,
   "id": "37a5d3dc",
   "metadata": {},
   "outputs": [],
   "source": [
    "def build_vocab(sentences, tags, min_freq=1):\n",
    "    word_counts = Counter()\n",
    "    for sentence in sentences:\n",
    "        word_counts.update([word.lower() for word in sentence])\n",
    "    \n",
    "    word_to_idx = {'<PAD>': 0, '<UNK>': 1}\n",
    "    for word, count in word_counts.items():\n",
    "        if count >= min_freq:\n",
    "            word_to_idx[word] = len(word_to_idx)\n",
    "    \n",
    "    tag_counts = Counter()\n",
    "    for sentence_tags in tags:\n",
    "        tag_counts.update(sentence_tags)\n",
    "    \n",
    "    tag_to_idx = {'<PAD>': 0}\n",
    "    for tag in tag_counts:\n",
    "        tag_to_idx[tag] = len(tag_to_idx)\n",
    "    \n",
    "    return word_to_idx, tag_to_idx"
   ]
  },
  {
   "cell_type": "code",
   "execution_count": 52,
   "id": "58d6e0ee",
   "metadata": {},
   "outputs": [],
   "source": [
    "def load_glove_embeddings(glove_path, word_to_idx, embedding_dim=100):\n",
    "    \"\"\"加载预训练的GloVe词向量\"\"\"\n",
    "    embeddings = np.random.uniform(-0.25, 0.25, (len(word_to_idx), embedding_dim))\n",
    "    embeddings[0] = np.zeros(embedding_dim)\n",
    "    \n",
    "    word_count = 0\n",
    "    with open(glove_path, 'r', encoding='utf-8') as f:\n",
    "        for line in tqdm(f, desc=\"加载GloVe词向量\"):\n",
    "            values = line.split()\n",
    "            word = values[0]\n",
    "            if word.lower() in word_to_idx:\n",
    "                vector = np.array(values[1:], dtype='float32')\n",
    "                embeddings[word_to_idx[word.lower()]] = vector\n",
    "                word_count += 1\n",
    "    \n",
    "    print(f\"加载了 {word_count}/{len(word_to_idx)} 个词的预训练词向量\")\n",
    "    return torch.FloatTensor(embeddings)"
   ]
  },
  {
   "cell_type": "code",
   "execution_count": 53,
   "id": "b05b06c5",
   "metadata": {},
   "outputs": [],
   "source": [
    "def collate_fn(batch):\n",
    "    batch.sort(key=lambda x: len(x[0]), reverse=True)\n",
    "    sentences, tags = zip(*batch)\n",
    "    \n",
    "    lengths = [len(s) for s in sentences]\n",
    "    max_len = max(lengths)\n",
    "    \n",
    "    padded_sentences = torch.zeros(len(sentences), max_len).long()\n",
    "    padded_tags = torch.zeros(len(sentences), max_len).long()\n",
    "    \n",
    "    for i, (sentence, tag) in enumerate(zip(sentences, tags)):\n",
    "        end = lengths[i]\n",
    "        padded_sentences[i, :end] = sentence[:end]\n",
    "        padded_tags[i, :end] = tag[:end]\n",
    "    \n",
    "    return padded_sentences, padded_tags, torch.tensor(lengths)"
   ]
  },
  {
   "cell_type": "code",
   "execution_count": 54,
   "id": "6610c22b",
   "metadata": {},
   "outputs": [],
   "source": [
    "def load_data(file_path):\n",
    "    #重新写了一个读取数据的函数，直接用utils的读取数据有点问题\n",
    "    sentences = []\n",
    "    tags = []\n",
    "    \n",
    "    sentence = []\n",
    "    sentence_tags = []\n",
    "    \n",
    "    with open(file_path, 'r', encoding='utf-8') as f:\n",
    "        for line in f:\n",
    "            line = line.strip()\n",
    "            if line == '' or line.startswith('-DOCSTART-'):\n",
    "                if sentence:\n",
    "                    sentences.append(sentence)\n",
    "                    tags.append(sentence_tags)\n",
    "                    sentence = []\n",
    "                    sentence_tags = []\n",
    "            else:\n",
    "                parts = line.split()\n",
    "                if len(parts) >= 4:  \n",
    "                    word = parts[0]\n",
    "                    tag = parts[3]\n",
    "                    sentence.append(word)\n",
    "                    sentence_tags.append(tag)\n",
    "    \n",
    "    if sentence:\n",
    "        sentences.append(sentence)\n",
    "        tags.append(sentence_tags)\n",
    "    \n",
    "    return sentences, tags"
   ]
  },
  {
   "cell_type": "markdown",
   "id": "472d9a42",
   "metadata": {},
   "source": [
    "### 1. Build the Model"
   ]
  },
  {
   "cell_type": "code",
   "execution_count": 55,
   "id": "d7c6b17b",
   "metadata": {},
   "outputs": [],
   "source": [
    "class BiLSTM_MEMM_NER(nn.Module):\n",
    "    def __init__(self, vocab_size, tag_size, embedding_dim, hidden_dim, tag_embedding_dim, num_layers, dropout, pretrained_embeddings=None):\n",
    "        super(BiLSTM_MEMM_NER, self).__init__()\n",
    "        \n",
    "        self.embedding = nn.Embedding(vocab_size, embedding_dim)\n",
    "        if pretrained_embeddings is not None:\n",
    "            self.embedding.weight = nn.Parameter(pretrained_embeddings)\n",
    "        \n",
    "        self.tag_embedding = nn.Embedding(tag_size, tag_embedding_dim)\n",
    "\n",
    "        self.lstm = nn.LSTM(embedding_dim, \n",
    "                           hidden_dim // 2,  \n",
    "                           num_layers=num_layers, \n",
    "                           bidirectional=True,\n",
    "                           batch_first=True,\n",
    "                           dropout=dropout if num_layers > 1 else 0)\n",
    "        \n",
    "        # MEMM层\n",
    "        self.fc = nn.Linear(hidden_dim + tag_embedding_dim, tag_size)\n",
    "        self.dropout = nn.Dropout(dropout)\n",
    "        \n",
    "        self.tag_size = tag_size\n",
    "        self.hidden_dim = hidden_dim\n",
    "        self.tag_embedding_dim = tag_embedding_dim\n",
    "    \n",
    "    def forward(self, x, lengths, tags=None, teacher_forcing_ratio=0.5):\n",
    "        batch_size = x.size(0)\n",
    "        max_len = x.size(1)\n",
    "        \n",
    "        embedded = self.dropout(self.embedding(x))\n",
    "        \n",
    "        packed = nn.utils.rnn.pack_padded_sequence(embedded, lengths.cpu(), batch_first=True)\n",
    "        outputs, _ = self.lstm(packed)\n",
    "        outputs, _ = nn.utils.rnn.pad_packed_sequence(outputs, batch_first=True)\n",
    "        outputs = self.dropout(outputs)\n",
    "        \n",
    "        logits = torch.zeros(batch_size, max_len, self.tag_size).to(x.device)\n",
    "        \n",
    "        prev_tags = torch.zeros(batch_size).long().to(x.device)\n",
    "        \n",
    "        for t in range(max_len):\n",
    "            valid_batch_mask = (t < lengths).float().unsqueeze(1)\n",
    "            \n",
    "            prev_tag_embedding = self.tag_embedding(prev_tags)\n",
    "            \n",
    "            combined = torch.cat([outputs[:, t], prev_tag_embedding], dim=1)\n",
    "            \n",
    "            current_logits = self.fc(combined)\n",
    "            logits[:, t] = current_logits\n",
    "            \n",
    "            if tags is not None and torch.rand(1).item() < teacher_forcing_ratio:\n",
    "                prev_tags = tags[:, t]\n",
    "            else:\n",
    "                _, prev_tags = torch.max(current_logits, dim=1)\n",
    "                \n",
    "            prev_tags = prev_tags * valid_batch_mask.squeeze(1).long()\n",
    "        \n",
    "        return logits"
   ]
  },
  {
   "cell_type": "markdown",
   "id": "0438e955",
   "metadata": {},
   "source": [
    "### 2. Train and Evaluate"
   ]
  },
  {
   "cell_type": "code",
   "execution_count": 56,
   "id": "7e5c6970",
   "metadata": {},
   "outputs": [],
   "source": [
    "def train_memm(model, train_loader, optimizer, criterion, device, teacher_forcing_ratio=0.5):\n",
    "    model.train()\n",
    "    total_loss = 0\n",
    "    \n",
    "    for sentences, tags, lengths in tqdm(train_loader, desc=\"训练\"):\n",
    "        sentences = sentences.to(device)\n",
    "        tags = tags.to(device)\n",
    "        lengths = lengths.to(device)\n",
    "        \n",
    "        optimizer.zero_grad()\n",
    "        logits = model(sentences, lengths, tags, teacher_forcing_ratio)\n",
    "        \n",
    "        loss = 0\n",
    "        for i in range(logits.size(0)):\n",
    "            loss += criterion(logits[i, :lengths[i]], tags[i, :lengths[i]])\n",
    "        loss /= logits.size(0)\n",
    "\n",
    "        loss.backward()\n",
    "        torch.nn.utils.clip_grad_norm_(model.parameters(), max_norm=1.0)\n",
    "        optimizer.step()\n",
    "        \n",
    "        total_loss += loss.item()\n",
    "    \n",
    "    return total_loss / len(train_loader)"
   ]
  },
  {
   "cell_type": "code",
   "execution_count": 57,
   "id": "447e1212",
   "metadata": {},
   "outputs": [],
   "source": [
    "def evaluate_memm(model, data_loader, tag_to_idx, idx_to_tag, metrics_handler, device):\n",
    "    model.eval()\n",
    "    metrics_handler = MetricsHandler(classes=list(tag_to_idx.keys()))\n",
    "    \n",
    "    with torch.no_grad():\n",
    "        for sentences, tags, lengths in tqdm(data_loader, desc=\"评估\"):\n",
    "            sentences = sentences.to(device)\n",
    "            tags = tags.to(device)\n",
    "            lengths = lengths.to(device)\n",
    "            \n",
    "            logits = model(sentences, lengths, teacher_forcing_ratio=0.0)\n",
    "            \n",
    "            for i in range(logits.size(0)):\n",
    "                length = lengths[i]\n",
    "                logits_i = logits[i, :length]\n",
    "                tags_i = tags[i, :length]\n",
    "                \n",
    "                _, predicted = torch.max(logits_i, dim=1)\n",
    "                \n",
    "                pred_tags = [idx_to_tag[idx.item()] for idx in predicted]\n",
    "                true_tags = [idx_to_tag[idx.item()] for idx in tags_i]\n",
    "                \n",
    "                metrics_handler.update(pred_tags, true_tags)\n",
    "    \n",
    "    metrics_handler.collect()\n",
    "    metrics = metrics_handler.get_metrics()\n",
    "    \n",
    "    f1_scores = metrics[\"F1-score\"]\n",
    "    latest_f1 = f1_scores[-1] if f1_scores else 0.0\n",
    "    \n",
    "    return {\"f1\": latest_f1, \"metrics\": metrics}"
   ]
  },
  {
   "cell_type": "code",
   "execution_count": 58,
   "id": "57369d1b",
   "metadata": {},
   "outputs": [
    {
     "name": "stdout",
     "output_type": "stream",
     "text": [
      "TARGET SIZE: 10\n"
     ]
    },
    {
     "name": "stderr",
     "output_type": "stream",
     "text": [
      "加载GloVe词向量: 400000it [00:02, 165525.61it/s]"
     ]
    },
    {
     "name": "stdout",
     "output_type": "stream",
     "text": [
      "加载了 18415/21011 个词的预训练词向量\n"
     ]
    },
    {
     "name": "stderr",
     "output_type": "stream",
     "text": [
      "\n"
     ]
    }
   ],
   "source": [
    "from utils import get_tag_indices_from_scores\n",
    "from metrics import MetricsHandler\n",
    "\n",
    "labels_str = ['O', 'B-PER', 'I-PER', 'B-ORG', 'I-ORG', 'B-LOC', 'I-LOC']\n",
    "labels_int = list(range(len(labels_str)))\n",
    "train_metrics = MetricsHandler(labels_int)\n",
    "\n",
    "train_sentences, train_tags = load_data(os.path.join(DATA_DIR, 'train.txt'))\n",
    "dev_sentences, dev_tags = load_data(os.path.join(DATA_DIR, 'dev.txt'))\n",
    "test_sentences, test_tags = load_data(os.path.join(DATA_DIR, 'test.txt'))\n",
    "\n",
    "word_to_idx, tag_to_idx = build_vocab(train_sentences, train_tags)\n",
    "idx_to_tag = {idx: tag for tag, idx in tag_to_idx.items()}\n",
    "\n",
    "TAGSET_SIZE = len(tag_to_idx)\n",
    "\n",
    "print(f\"TARGET SIZE: {TAGSET_SIZE}\")\n",
    "\n",
    "pretrained_embeddings = load_glove_embeddings(GLOVE_PATH, word_to_idx, EMBEDDING_DIM)\n",
    "\n",
    "train_dataset = NERDataset(train_sentences, train_tags, word_to_idx, tag_to_idx)\n",
    "dev_dataset = NERDataset(dev_sentences, dev_tags, word_to_idx, tag_to_idx)\n",
    "test_dataset = NERDataset(test_sentences, test_tags, word_to_idx, tag_to_idx)\n",
    "\n",
    "train_loader = DataLoader(train_dataset, batch_size=BATCH_SIZE, shuffle=True, collate_fn=collate_fn)\n",
    "dev_loader = DataLoader(dev_dataset, batch_size=BATCH_SIZE, shuffle=False, collate_fn=collate_fn)\n",
    "test_loader = DataLoader(test_dataset, batch_size=BATCH_SIZE, shuffle=False, collate_fn=collate_fn)\n",
    "\n",
    "\n",
    "memm_model = BiLSTM_MEMM_NER(\n",
    "    vocab_size=len(word_to_idx),\n",
    "    tag_size=len(tag_to_idx),\n",
    "    embedding_dim=EMBEDDING_DIM,\n",
    "    hidden_dim=HIDDEN_DIM,\n",
    "    tag_embedding_dim=TAG_EMBEDDING_DIM, \n",
    "    num_layers=NUM_LAYERS,\n",
    "    dropout=DROPOUT,\n",
    "    pretrained_embeddings=pretrained_embeddings\n",
    ").to(device)\n",
    "\n",
    "criterion = nn.CrossEntropyLoss(ignore_index=tag_to_idx['<PAD>'])\n",
    "optimizer = optim.Adam(memm_model.parameters(), lr=0.0005)\n",
    "\n",
    "\n",
    "metrics_handler = MetricsHandler(classes=list(range(TAGSET_SIZE)))\n"
   ]
  },
  {
   "cell_type": "code",
   "execution_count": 59,
   "id": "38312876",
   "metadata": {},
   "outputs": [
    {
     "name": "stdout",
     "output_type": "stream",
     "text": [
      "开始MEMM模型训练...\n"
     ]
    },
    {
     "name": "stderr",
     "output_type": "stream",
     "text": [
      "训练: 100%|██████████| 110/110 [00:10<00:00, 10.19it/s]\n",
      "评估: 100%|██████████| 26/26 [00:02<00:00, 10.18it/s]\n",
      "/home/stu_12310401/nlp/SUSTech-NLP25/Ass4/metrics.py:5: RuntimeWarning: invalid value encountered in scalar divide\n",
      "  return x[1, 1]/(x[1, 1] + x[0, 1])\n",
      "/home/stu_12310401/nlp/SUSTech-NLP25/Ass4/metrics.py:9: RuntimeWarning: invalid value encountered in scalar divide\n",
      "  return x[1, 1] / (x[1, 0] + x[1, 1])\n",
      "/home/stu_12310401/nlp/SUSTech-NLP25/Ass4/metrics.py:15: RuntimeWarning: invalid value encountered in scalar divide\n",
      "  return ((1 + beta**2)*precision*recall)/(beta**2 * precision + recall)\n"
     ]
    },
    {
     "name": "stdout",
     "output_type": "stream",
     "text": [
      "Epoch 1/10, Loss: 0.9035, Dev set F1: 0.5435, TF ratio: 1.00\n"
     ]
    },
    {
     "name": "stderr",
     "output_type": "stream",
     "text": [
      "训练: 100%|██████████| 110/110 [00:12<00:00,  9.12it/s]\n",
      "评估: 100%|██████████| 26/26 [00:03<00:00,  8.39it/s]\n"
     ]
    },
    {
     "name": "stdout",
     "output_type": "stream",
     "text": [
      "Epoch 2/10, Loss: 0.3602, Dev set F1: 0.5969, TF ratio: 0.90\n"
     ]
    },
    {
     "name": "stderr",
     "output_type": "stream",
     "text": [
      "训练: 100%|██████████| 110/110 [00:13<00:00,  8.16it/s]\n",
      "评估: 100%|██████████| 26/26 [00:03<00:00,  8.49it/s]\n"
     ]
    },
    {
     "name": "stdout",
     "output_type": "stream",
     "text": [
      "Epoch 3/10, Loss: 0.2489, Dev set F1: 0.6914, TF ratio: 0.80\n"
     ]
    },
    {
     "name": "stderr",
     "output_type": "stream",
     "text": [
      "训练: 100%|██████████| 110/110 [00:13<00:00,  8.09it/s]\n",
      "评估: 100%|██████████| 26/26 [00:03<00:00,  8.51it/s]\n"
     ]
    },
    {
     "name": "stdout",
     "output_type": "stream",
     "text": [
      "Epoch 4/10, Loss: 0.2066, Dev set F1: 0.7225, TF ratio: 0.70\n"
     ]
    },
    {
     "name": "stderr",
     "output_type": "stream",
     "text": [
      "训练: 100%|██████████| 110/110 [00:14<00:00,  7.84it/s]\n",
      "评估: 100%|██████████| 26/26 [00:03<00:00,  8.41it/s]\n"
     ]
    },
    {
     "name": "stdout",
     "output_type": "stream",
     "text": [
      "Epoch 5/10, Loss: 0.1857, Dev set F1: 0.7379, TF ratio: 0.60\n"
     ]
    },
    {
     "name": "stderr",
     "output_type": "stream",
     "text": [
      "训练: 100%|██████████| 110/110 [00:13<00:00,  8.08it/s]\n",
      "评估: 100%|██████████| 26/26 [00:03<00:00,  8.45it/s]\n"
     ]
    },
    {
     "name": "stdout",
     "output_type": "stream",
     "text": [
      "Epoch 6/10, Loss: 0.1707, Dev set F1: 0.7663, TF ratio: 0.50\n"
     ]
    },
    {
     "name": "stderr",
     "output_type": "stream",
     "text": [
      "训练: 100%|██████████| 110/110 [00:13<00:00,  8.24it/s]\n",
      "评估: 100%|██████████| 26/26 [00:02<00:00, 10.30it/s]\n"
     ]
    },
    {
     "name": "stdout",
     "output_type": "stream",
     "text": [
      "Epoch 7/10, Loss: 0.1590, Dev set F1: 0.7640, TF ratio: 0.40\n"
     ]
    },
    {
     "name": "stderr",
     "output_type": "stream",
     "text": [
      "训练: 100%|██████████| 110/110 [00:12<00:00,  9.07it/s]\n",
      "评估: 100%|██████████| 26/26 [00:02<00:00, 10.80it/s]\n"
     ]
    },
    {
     "name": "stdout",
     "output_type": "stream",
     "text": [
      "Epoch 8/10, Loss: 0.1506, Dev set F1: 0.7885, TF ratio: 0.30\n"
     ]
    },
    {
     "name": "stderr",
     "output_type": "stream",
     "text": [
      "训练: 100%|██████████| 110/110 [00:12<00:00,  9.09it/s]\n",
      "评估: 100%|██████████| 26/26 [00:02<00:00, 10.74it/s]\n"
     ]
    },
    {
     "name": "stdout",
     "output_type": "stream",
     "text": [
      "Epoch 9/10, Loss: 0.1404, Dev set F1: 0.7858, TF ratio: 0.20\n"
     ]
    },
    {
     "name": "stderr",
     "output_type": "stream",
     "text": [
      "训练: 100%|██████████| 110/110 [00:12<00:00,  9.07it/s]\n",
      "评估: 100%|██████████| 26/26 [00:02<00:00, 10.49it/s]\n"
     ]
    },
    {
     "name": "stdout",
     "output_type": "stream",
     "text": [
      "Epoch 10/10, Loss: 0.1338, Dev set F1: 0.8035, TF ratio: 0.10\n"
     ]
    }
   ],
   "source": [
    "print(\"开始MEMM模型训练...\")\n",
    "train_losses = []\n",
    "dev_f1_scores = []\n",
    "\n",
    "for epoch in range(NUM_EPOCHS):\n",
    "    # 逐渐降低教师强制比例\n",
    "    teacher_forcing_ratio = max(0.0, 1.0 - 0.1 * epoch)\n",
    "    \n",
    "    train_loss = train_memm(memm_model, train_loader, optimizer, criterion, device, teacher_forcing_ratio)\n",
    "    train_losses.append(train_loss)\n",
    "    \n",
    "    dev_metrics = evaluate_memm(memm_model, dev_loader, tag_to_idx, idx_to_tag, metrics_handler, device)\n",
    "    dev_f1 = dev_metrics['f1']\n",
    "    dev_f1_scores.append(dev_f1)\n",
    "    \n",
    "    print(f\"Epoch {epoch+1}/{NUM_EPOCHS}, Loss: {train_loss:.4f}, Dev set F1: {dev_f1:.4f}, TF ratio: {teacher_forcing_ratio:.2f}\")\n",
    "\n",
    "torch.save({\n",
    "    'model_state_dict': memm_model.state_dict(),\n",
    "    'word_to_idx': word_to_idx,\n",
    "    'tag_to_idx': tag_to_idx,\n",
    "    'idx_to_tag': idx_to_tag,\n",
    "    'hyperparams': {\n",
    "        'embedding_dim': EMBEDDING_DIM,\n",
    "        'hidden_dim': HIDDEN_DIM,\n",
    "        'tag_embedding_dim': TAG_EMBEDDING_DIM,\n",
    "        'num_layers': NUM_LAYERS,\n",
    "        'dropout': DROPOUT\n",
    "    }\n",
    "}, 'bilstm_memm_ner_model.pt')"
   ]
  },
  {
   "cell_type": "markdown",
   "id": "3d932bcb",
   "metadata": {},
   "source": [
    "### 3. Other Experiments"
   ]
  },
  {
   "cell_type": "code",
   "execution_count": 60,
   "id": "59b89673",
   "metadata": {},
   "outputs": [
    {
     "data": {
      "image/png": "[encoded data removed]",
      "text/plain": [
       "<Figure size 1200x500 with 2 Axes>"
      ]
     },
     "metadata": {},
     "output_type": "display_data"
    }
   ],
   "source": [
    "plt.figure(figsize=(12, 5))\n",
    "\n",
    "plt.subplot(1, 2, 1)\n",
    "plt.plot(train_losses)\n",
    "plt.title('Training Loss')\n",
    "plt.xlabel('Epoch')\n",
    "plt.ylabel('Loss')\n",
    "\n",
    "plt.subplot(1, 2, 2)\n",
    "plt.plot(dev_f1_scores)\n",
    "plt.title('Dev Set F1 Score')\n",
    "plt.xlabel('Epoch')\n",
    "plt.ylabel('F1')\n",
    "\n",
    "plt.tight_layout()\n",
    "plt.savefig('training_curves.png')\n",
    "plt.show()"
   ]
  }
 ],
 "metadata": {
  "kernelspec": {
   "display_name": "wzh-py39",
   "language": "python",
   "name": "python3"
  },
  "language_info": {
   "codemirror_mode": {
    "name": "ipython",
    "version": 3
   },
   "file_extension": ".py",
   "mimetype": "text/x-python",
   "name": "python",
   "nbconvert_exporter": "python",
   "pygments_lexer": "ipython3",
   "version": "3.9.21"
  }
 },
 "nbformat": 4,
 "nbformat_minor": 5
}
