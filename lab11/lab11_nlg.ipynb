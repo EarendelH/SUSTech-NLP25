{
 "cells": [
  {
   "cell_type": "markdown",
   "metadata": {},
   "source": [
    "## CS310 Natural Language Processing\n",
    "## Lab 11: Explore Natural Language Generation\n",
    "\n",
    "In this lab, we will practice using pre-trained transformer-based language models for natural language generation tasks."
   ]
  },
  {
   "cell_type": "code",
   "execution_count": 1,
   "metadata": {},
   "outputs": [],
   "source": [
    "import torch\n",
    "import torch.nn.functional as F\n",
    "import random\n",
    "import numpy as np"
   ]
  },
  {
   "cell_type": "markdown",
   "metadata": {},
   "source": [
    "## T1. Explore Pretrained GPT-2 Model\n",
    "\n",
    "In this task, you will explore the GPT-2 model using the `transformers` library.\n",
    "\n",
    "Just like in the previous lab, you will need to download the pretrained model and unzip it to `./gpt2zh`. \n",
    "\n",
    "Note that this is not the original version of GPT-2 provided by OpenAI (https://huggingface.co/openai-community/gpt2), but a fine-tuned version for Chinese text generation."
   ]
  },
  {
   "cell_type": "code",
   "execution_count": 4,
   "metadata": {},
   "outputs": [
    {
     "name": "stdout",
     "output_type": "stream",
     "text": [
      "vocab size: 21128\n",
      "special token [SEP]: 102\n",
      "special token [CLS]: 101\n",
      "special token [PAD]: 0\n"
     ]
    }
   ],
   "source": [
    "from transformers import AutoTokenizer, GPT2LMHeadModel\n",
    "\n",
    "gpt2_tokenizer = AutoTokenizer.from_pretrained(\"./gpt2zh\")\n",
    "gpt2_model = GPT2LMHeadModel.from_pretrained(\"./gpt2zh\")\n",
    "# Evaluation mode\n",
    "gpt2_model = gpt2_model.half()\n",
    "\n",
    "print('vocab size:', gpt2_tokenizer.vocab_size)\n",
    "print(f'special token {gpt2_tokenizer.sep_token}:', gpt2_tokenizer.sep_token_id)\n",
    "print(f'special token {gpt2_tokenizer.cls_token}:', gpt2_tokenizer.cls_token_id)\n",
    "print(f'special token {gpt2_tokenizer.pad_token}:', gpt2_tokenizer.pad_token_id)\n",
    "\n",
    "# Use [SEP] as end-of-sentence token\n",
    "gpt2_model.config.eos_token_id = gpt2_tokenizer.sep_token_id"
   ]
  },
  {
   "cell_type": "markdown",
   "metadata": {},
   "source": [
    "The tokenizer can return the token IDs and the attention mask that indicates which tokens are padding tokens (`1` for real tokens, `0` for padding tokens).\n",
    "\n",
    "Since we only have one sentence in the \"batch\", there is no padding used, and thus no `0` in the attention mask."
   ]
  },
  {
   "cell_type": "code",
   "execution_count": 5,
   "metadata": {},
   "outputs": [
    {
     "name": "stdout",
     "output_type": "stream",
     "text": [
      "input ids: tensor([[ 101, 2110, 5445, 3198,  739,  722, 8024,  679,  771, 6432,  725, 8013,\n",
      "          102]])\n",
      "input attention mask: tensor([[1, 1, 1, 1, 1, 1, 1, 1, 1, 1, 1, 1, 1]])\n",
      "input tokens: ['[CLS]', '学', '而', '时', '习', '之', '，', '不', '亦', '说', '乎', '！', '[SEP]']\n"
     ]
    }
   ],
   "source": [
    "input_text = '学而时习之，不亦说乎！'\n",
    "input_encoded = gpt2_tokenizer(input_text, return_tensors=\"pt\")\n",
    "\n",
    "print('input ids:', input_encoded['input_ids'])\n",
    "print('input attention mask:', input_encoded['attention_mask'])\n",
    "\n",
    "# Map token ids back to tokens\n",
    "print('input tokens:', gpt2_tokenizer.convert_ids_to_tokens(input_encoded['input_ids'][0]))"
   ]
  },
  {
   "cell_type": "markdown",
   "metadata": {},
   "source": [
    "It's easy to directly use the `generate` method to generate some sentences:"
   ]
  },
  {
   "cell_type": "code",
   "execution_count": 6,
   "metadata": {},
   "outputs": [
    {
     "name": "stdout",
     "output_type": "stream",
     "text": [
      "子 曰 ： 人 之 所 以 为 己 ， 人 之 所 以 为 人 。 《 庄 子\n",
      "子 曰 ： 人\n",
      "子 曰 ： 人 生 之 大 乐 ， 有 乐 而 无 忧 。 一 切 烦 恼 ，\n",
      "子 曰 ： 人 生 自 古 ， 人 生 天 地 ， 地 天 人 合 一 。 人\n",
      "子 曰 ： 人 不 是 鬼 ， 鬼 不 是 鬼 ， 鬼 不 是 鬼 ， 鬼 不\n"
     ]
    }
   ],
   "source": [
    "input_text = \"子曰：人\"\n",
    "input_encoded = gpt2_tokenizer(input_text, return_tensors=\"pt\", add_special_tokens=False)\n",
    "n_outputs = 5\n",
    "\n",
    "output = gpt2_model.generate(**input_encoded, \n",
    "                                 max_length=20, \n",
    "                                 num_return_sequences=n_outputs,\n",
    "                                 do_sample=True, \n",
    "                                 top_k=50, \n",
    "                                 top_p=0.95, \n",
    "                                 temperature=0.7,\n",
    "                                 pad_token_id=0,\n",
    "                                 )\n",
    "# print(type(output))\n",
    "# print(output.shape)\n",
    "\n",
    "for i in range(n_outputs):\n",
    "    output_text = gpt2_tokenizer.decode(output[i], skip_special_tokens=True)\n",
    "    print(output_text)"
   ]
  },
  {
   "cell_type": "markdown",
   "metadata": {},
   "source": [
    "We can see that the generation is far from perfect. It still has good chances to produce a lot of repetitions.\n",
    "\n",
    "---"
   ]
  },
  {
   "cell_type": "markdown",
   "metadata": {},
   "source": [
    "## T2. Implement Top-k Sampling Manually\n",
    "\n",
    "Let's first try greedy search, i.e., top-1 sampling.\n",
    "\n",
    "*Hint*: Call `argmax()` on the logits; Use the `convert_ids_to_tokens()` method to convert the token ids to string."
   ]
  },
  {
   "cell_type": "code",
   "execution_count": 7,
   "metadata": {},
   "outputs": [
    {
     "name": "stdout",
     "output_type": "stream",
     "text": [
      "input size: 4\n",
      "torch.Size([1, 4, 21128])\n",
      "预\n"
     ]
    }
   ],
   "source": [
    "input_text = \"今天天气\"\n",
    "input_encoded = gpt2_tokenizer(input_text, return_tensors=\"pt\", add_special_tokens=False)\n",
    "print('input size:', input_encoded.input_ids.shape[1])\n",
    "\n",
    "output = gpt2_model(input_encoded.input_ids, \n",
    "                    attention_mask=input_encoded.attention_mask)\n",
    "logits = output.logits\n",
    "print(logits.shape)\n",
    "\n",
    "### START YOUR CODE ###\n",
    "# Get the probability distribution predicted at the last token's position\n",
    "last_token_logits = None\n",
    "last_token_logits = logits[0, -1, :]\n",
    "probs = F.softmax(last_token_logits, dim=-1)\n",
    "\n",
    "# Get the most likely token id from this distribution\n",
    "most_likely_token_id = None\n",
    "most_likely_token_id = torch.argmax(probs).item()\n",
    "\n",
    "### END YOUR CODE ###\n",
    "\n",
    "# Convert the token id to a token\n",
    "most_likely_token = gpt2_tokenizer.convert_ids_to_tokens(most_likely_token_id)\n",
    "print(most_likely_token)\n",
    "\n",
    "# You should expect to see the following output:\n",
    "# input size: 4\n",
    "# torch.Size([1, 4, 21128])\n",
    "# 预"
   ]
  },
  {
   "cell_type": "markdown",
   "metadata": {},
   "source": [
    "Once you are done with the above code, you can now implement the full generation loop: at each iteration, you select the most likely token and append it to the end input, and then feed the new input to the model for predicting the next token. \n",
    "\n",
    "The loop continues until `max_gen_len` is reached, or a `\"[SEP]\"` token is generated.\n",
    "\n",
    "**Note**: \n",
    "- Use `torch.cat` to append elements to input IDs\n",
    "- The `attn_mask` also needs be updated at each iteration."
   ]
  },
  {
   "cell_type": "code",
   "execution_count": 8,
   "metadata": {},
   "outputs": [
    {
     "name": "stdout",
     "output_type": "stream",
     "text": [
      "今天天气预报：今天白天，我市阴天有小雨，气温：小雨转多云，气温：小雨转多云，气温：小雨转多云，气温：小雨转多"
     ]
    }
   ],
   "source": [
    "max_gen_len = 50\n",
    "\n",
    "input_text = \"今天天气\"\n",
    "input_encoded = gpt2_tokenizer(input_text, return_tensors=\"pt\", add_special_tokens=False)\n",
    "input_ids = input_encoded.input_ids\n",
    "attn_mask = input_encoded.attention_mask\n",
    "\n",
    "count = 0\n",
    "while count < max_gen_len:\n",
    "    output = gpt2_model(input_ids, attention_mask=attn_mask)\n",
    "    logits = output.logits\n",
    "\n",
    "    ### START YOUR CODE ###\n",
    "    last_token_logits = logits[0, -1, :]\n",
    "    probs = F.softmax(last_token_logits, dim=-1)\n",
    "\n",
    "    # Get the most likely token id\n",
    "    sampled_token_id = torch.argmax(probs).item()\n",
    "    if sampled_token_id == gpt2_tokenizer.sep_token_id:\n",
    "        break\n",
    "\n",
    "    # Append the sampled token id to the input\n",
    "    sampled_token_tensor = torch.tensor([[sampled_token_id]], dtype=torch.long)\n",
    "    input_ids = torch.cat([input_ids, sampled_token_tensor], dim=1)\n",
    "\n",
    "    # Increment the attention mask\n",
    "    attn_mask = torch.cat([attn_mask, torch.ones((1, 1), dtype=torch.long)], dim=1)\n",
    "    ### END YOUR CODE ###\n",
    "\n",
    "    count += 1\n",
    "\n",
    "\n",
    "# Test\n",
    "SPECIAL_TOKEN_IDS = set([gpt2_tokenizer.sep_token_id, \n",
    "                         gpt2_tokenizer.cls_token_id, \n",
    "                         gpt2_tokenizer.pad_token_id,\n",
    "                         100]) # 100 for [UNK]\n",
    "\n",
    "# Decode the generated tokens ids\n",
    "for i in range(input_ids.shape[1]):\n",
    "    tok_id = input_ids[0, i].item()\n",
    "    # Skip the special tokens\n",
    "    if tok_id not in SPECIAL_TOKEN_IDS:\n",
    "        print(gpt2_tokenizer.convert_ids_to_tokens(input_ids[0, i].item()), end='')\n",
    "\n",
    "# You should expect to see the following output:\n",
    "# 今天天气预报：今天白天，我市阴天有小雨，气温：小雨转多云，气温：小雨转多云，气温：小雨转多云，气温：小雨转多"
   ]
  },
  {
   "cell_type": "markdown",
   "metadata": {},
   "source": [
    "As you can see, greedy search results in very repetitive text.\n",
    "\n",
    "---"
   ]
  },
  {
   "cell_type": "markdown",
   "metadata": {},
   "source": [
    "Now, let's implement a `top-k` sampling algorithm.\n",
    "\n",
    "The idea is to **uniformly** sample from top-k most likely next tokens. PyTorch tensor provides a `topk` method to get the top-k values and indices. \n",
    "\n",
    "In the following example, you can check the **top 5** most likely words following the sentence \"今天天气\":"
   ]
  },
  {
   "cell_type": "code",
   "execution_count": 9,
   "metadata": {},
   "outputs": [
    {
     "name": "stdout",
     "output_type": "stream",
     "text": [
      "tensor([7.8945, 7.8555, 7.5898, 7.3516, 7.3047], dtype=torch.float16,\n",
      "       grad_fn=<TopkBackward0>)\n",
      "tensor([7564, 2523,  679, 1962, 6820])\n",
      "预 很 不 好 还 "
     ]
    }
   ],
   "source": [
    "k = 5\n",
    "input_text = \"今天天气\"\n",
    "input_encoded = gpt2_tokenizer(input_text, return_tensors=\"pt\", add_special_tokens=False)\n",
    "input_ids = input_encoded.input_ids\n",
    "attn_mask = input_encoded.attention_mask\n",
    "\n",
    "output = gpt2_model(input_ids, attention_mask=attn_mask)\n",
    "logits = output.logits\n",
    "\n",
    "### START YOUR CODE ###\n",
    "last_token_logits = logits[0, -1, :]\n",
    "topk_logits, topk_indices = torch.topk(last_token_logits, k)\n",
    "### END YOUR CODE ###\n",
    "\n",
    "\n",
    "# Test\n",
    "print(topk_logits)\n",
    "print(topk_indices)\n",
    "\n",
    "for i in range(k):\n",
    "    tok_id = topk_indices[i].item()\n",
    "    print(gpt2_tokenizer.convert_ids_to_tokens(tok_id), end=' ')\n",
    "\n",
    "# You should expect to see the following output:\n",
    "# tensor([7.8924, 7.8550, 7.5893, 7.3502, 7.3069], grad_fn=<TopkBackward0>)\n",
    "# tensor([7564, 2523,  679, 1962, 6820])\n",
    "# 预 很 不 好 还 "
   ]
  },
  {
   "cell_type": "markdown",
   "metadata": {},
   "source": [
    "Next let's integrate the top-k sampling algorithm into the generation process. The uniform sampling can be implemented using `random.choices` among the top-k indices."
   ]
  },
  {
   "cell_type": "code",
   "execution_count": 10,
   "metadata": {},
   "outputs": [],
   "source": [
    "def generate_topk_uniform(input_text, k=5, max_gen_len=50):\n",
    "    '''\n",
    "    Generate tokens from the top-k logits, and yield the sampled token id.\n",
    "    Tokens are sampled from a naive uniform distribution.\n",
    "    '''\n",
    "    input_encoded = gpt2_tokenizer(input_text, return_tensors=\"pt\", add_special_tokens=False)\n",
    "    input_ids = input_encoded.input_ids\n",
    "    attn_mask = input_encoded.attention_mask\n",
    "\n",
    "    count = 0\n",
    "    while count < max_gen_len:\n",
    "        output = gpt2_model(input_ids, attention_mask=attn_mask)\n",
    "        logits = output.logits\n",
    "\n",
    "        ### START YOUR CODE ###\n",
    "        last_token_logits = logits[0, -1, :]\n",
    "        topk_logits, topk_indices = torch.topk(last_token_logits, k)\n",
    "\n",
    "        # Uniformly sample from the top-k indices\n",
    "        sampled_index = random.choice(range(k))\n",
    "        sampled_token_id = topk_indices[sampled_index].item()\n",
    "        yield sampled_token_id\n",
    "\n",
    "        if sampled_token_id == gpt2_tokenizer.sep_token_id:\n",
    "            break\n",
    "\n",
    "        # Append the sampled token id to the input_ids\n",
    "        sampled_token_tensor = torch.tensor([[sampled_token_id]], dtype=torch.long)\n",
    "        input_ids = torch.cat([input_ids, sampled_token_tensor], dim=1)\n",
    "\n",
    "        # Increment the attention mask\n",
    "        attn_mask = torch.cat([attn_mask, torch.ones((1, 1), dtype=torch.long)], dim=1)\n",
    "        ### END YOUR CODE ###\n",
    "\n",
    "        count += 1"
   ]
  },
  {
   "cell_type": "code",
   "execution_count": 11,
   "metadata": {},
   "outputs": [
    {
     "name": "stdout",
     "output_type": "stream",
     "text": [
      "今天天气渐舒好不出院吧亲啊妈呢儿么也在啊你回不进北边？还让了半边出去天了怎！爸呀小侄年代过完今晚的太平儿不见"
     ]
    }
   ],
   "source": [
    "# Test\n",
    "input_text = \"今天天气\"\n",
    "print(input_text, end='')\n",
    "for tok_id in generate_topk_uniform(input_text, k=50):\n",
    "    if tok_id not in SPECIAL_TOKEN_IDS:\n",
    "        print(gpt2_tokenizer.convert_ids_to_tokens(tok_id), end='')"
   ]
  },
  {
   "cell_type": "code",
   "execution_count": null,
   "metadata": {},
   "outputs": [],
   "source": [
    "# Test\n",
    "input_text = \"子曰：人\"\n",
    "print(input_text, end='')\n",
    "for tok_id in generate_topk_uniform(input_text, k=50):\n",
    "    if tok_id not in SPECIAL_TOKEN_IDS:\n",
    "        print(gpt2_tokenizer.convert_ids_to_tokens(tok_id), end='')"
   ]
  },
  {
   "cell_type": "markdown",
   "metadata": {},
   "source": [
    "We can note that although the above uniform top-k sampling solves repetition issue, it will however produce *extremely incoherent* text. We can remedy this by using a proportional sampling instead of uniform sampling.\n",
    "\n",
    "There are plenty of different ways to implement proportionaly sampling. You can either:\n",
    "- Create list of cumulative relative probabilities of the top k tokens. For instance, if the relative probabilities of $k=5$ tokens are $0.1$, $0.2$, $0.5$, $0.1$, and $0.1$, then you cumulative probability list is `cum_prob = [0.1, 0.3, 0.8, 0.9, 1.0]`. \n",
    "- Then you draw a random number $r$ from the unifrom distribution $[0,1]$ by `random.random()`, and you decide which token is sampled by telling which bin of `cum_prob` that $r$ falls into.\n",
    "- Or instead, you use the `torch.multinomial()` function to accomplish similar sampling. *Note* the input weight provided to `torch.multinomial` should be the relative probabilities of the top $k$ tokens, which can be obtained from applying softmax to the logits. "
   ]
  },
  {
   "cell_type": "code",
   "execution_count": 14,
   "metadata": {},
   "outputs": [],
   "source": [
    "def generate_topk_proportion(input_text, k=50, max_gen_len=50):\n",
    "    '''\n",
    "    Generate tokens from the top-k logits, and yield the sampled token id.\n",
    "    Tokens are sampled proportional to their logits.\n",
    "    '''\n",
    "    input_encoded = gpt2_tokenizer(input_text, return_tensors=\"pt\", add_special_tokens=False)\n",
    "    input_ids = input_encoded.input_ids\n",
    "    attn_mask = input_encoded.attention_mask\n",
    "\n",
    "    count = 0\n",
    "    while count < max_gen_len:\n",
    "        output = gpt2_model(input_ids, attention_mask=attn_mask)\n",
    "        logits = output.logits\n",
    "\n",
    "        ### START YOUR CODE ###\n",
    "        last_token_logits = logits[0, -1, :]\n",
    "        topk_logits, topk_indices = torch.topk(last_token_logits, k)\n",
    "\n",
    "        topk_probs = F.softmax(topk_logits, dim=-1)  # Convert logits to probabilities\n",
    "        sampled_index = torch.multinomial(topk_probs, num_samples=1).item()  # Sample from probabilities\n",
    "        sampled_token_id = topk_indices[sampled_index].item()\n",
    "\n",
    "        yield sampled_token_id\n",
    "        if sampled_token_id == gpt2_tokenizer.sep_token_id:\n",
    "            break\n",
    "\n",
    "        sampled_token_tensor = torch.tensor([[sampled_token_id]], dtype=torch.long)\n",
    "        input_ids = torch.cat([input_ids, sampled_token_tensor], dim=1)\n",
    "\n",
    "        attn_mask = torch.cat([attn_mask, torch.ones((1, 1), dtype=torch.long)], dim=1)\n",
    "        ### END YOUR CODE ###\n",
    "\n",
    "        count += 1"
   ]
  },
  {
   "cell_type": "code",
   "execution_count": 16,
   "metadata": {},
   "outputs": [
    {
     "name": "stdout",
     "output_type": "stream",
     "text": [
      "今天天气好，我也要加油！来源：长沙晚报"
     ]
    }
   ],
   "source": [
    "# Test\n",
    "input_text = \"今天天气\"\n",
    "print(input_text, end='')\n",
    "for tok_id in generate_topk_proportion(input_text, k=25):\n",
    "    if tok_id not in SPECIAL_TOKEN_IDS:\n",
    "        print(gpt2_tokenizer.convert_ids_to_tokens(tok_id), end='')"
   ]
  },
  {
   "cell_type": "code",
   "execution_count": 17,
   "metadata": {},
   "outputs": [
    {
     "name": "stdout",
     "output_type": "stream",
     "text": [
      "子曰：人生在世，不在乎名利，不在乎金钱，不在乎成败，不在乎财富，而在乎平凡，以平凡开始，以平凡结束，以平凡结"
     ]
    }
   ],
   "source": [
    "# Test\n",
    "input_text = \"子曰：人\"\n",
    "print(input_text, end='')\n",
    "for tok_id in generate_topk_proportion(input_text, k=50, max_gen_len=25):\n",
    "    if tok_id not in SPECIAL_TOKEN_IDS:\n",
    "        print(gpt2_tokenizer.convert_ids_to_tokens(tok_id), end='')"
   ]
  },
  {
   "cell_type": "markdown",
   "metadata": {},
   "source": [
    "Do you think the proportional sampling produces better text?\n",
    "\n",
    "Have fun sampling! :)"
   ]
  },
  {
   "cell_type": "markdown",
   "metadata": {},
   "source": [
    "## T3. Implement Top-p Sampling\n",
    "\n",
    "Next, we will implement top-p sampling, which works in parallel to top-k sampling.\n",
    "\n",
    "In `filter_topk_topp()`, we first filter out the logits that are not in the top-k, by setting their logit values to `-float('inf')`. \n",
    "\n",
    "And then filter out the logits whose cumulative probability (as computed from the altered logits from the previous step) is greater than `p`.\n",
    "\n",
    "Note that it is possible that the first logit alone dominates the distribution, and its cumulative probability is greater than `p`. In this case, we want to keep this logit, and remove all other logits."
   ]
  },
  {
   "cell_type": "code",
   "execution_count": 18,
   "metadata": {},
   "outputs": [],
   "source": [
    "def filter_topk_topp(logits: torch.Tensor, k=50, p=0.9) -> torch.Tensor: \n",
    "    '''\n",
    "    Filter a distribution of logits using top-k and/or nucleus (top-p) filtering\n",
    "    '''\n",
    "    assert logits.dim() == 1\n",
    "    logits = logits.clone()\n",
    "\n",
    "    if k > 0:\n",
    "        ### START YOUR CODE ###\n",
    "        topk_logits, topk_indices = torch.topk(logits, k)\n",
    "        logits_to_remove = torch.ones_like(logits, dtype=torch.bool)\n",
    "        logits_to_remove[topk_indices] = False\n",
    "        logits[logits_to_remove] = -float('Inf')\n",
    "        ### END YOUR CODE ###\n",
    "        \n",
    "    if p > 0.0:\n",
    "        ### START YOUR CODE ###\n",
    "        logits_sorted, indices_sorted = torch.sort(logits, descending=True)\n",
    "        cum_probs = torch.cumsum(F.softmax(logits_sorted, dim=-1), dim=-1)\n",
    "        indices_to_remove = cum_probs > p\n",
    "        indices_to_remove[1:] = indices_to_remove[:-1].clone()\n",
    "        indices_to_remove[0] = False  # Always keep the first logit\n",
    "        logits[indices_sorted[indices_to_remove]] = -float('Inf')\n",
    "        ### END YOUR CODE ### \n",
    "\n",
    "    \n",
    "    return logits"
   ]
  },
  {
   "cell_type": "code",
   "execution_count": 19,
   "metadata": {},
   "outputs": [
    {
     "name": "stdout",
     "output_type": "stream",
     "text": [
      "original logits: tensor([0., 1., 2., 3., 4., 5., 6., 7., 8., 9.])\n",
      "\n",
      "k=5, p=0.0: tensor([-inf, -inf, -inf, -inf, -inf, 5., 6., 7., 8., 9.])\n",
      "\n",
      "k=0, p=0.9: tensor([-inf, -inf, -inf, -inf, -inf, -inf, -inf, 7., 8., 9.])\n",
      "\n",
      "k=0, p=0.9999999: tensor([0., 1., 2., 3., 4., 5., 6., 7., 8., 9.])\n",
      "\n",
      "k=5, p=0.9999999: tensor([-inf, -inf, -inf, -inf, -inf, 5., 6., 7., 8., 9.])\n"
     ]
    }
   ],
   "source": [
    "# Test filter_topk_topp\n",
    "logits = torch.tensor(list(range(10))).float()\n",
    "print('original logits:', logits)\n",
    "\n",
    "logits2 = filter_topk_topp(logits, k=5, p=0.0)\n",
    "print('\\nk=5, p=0.0:', logits2)\n",
    "\n",
    "logits3 = filter_topk_topp(logits, k=0, p=0.9)\n",
    "print('\\nk=0, p=0.9:', logits3)\n",
    "\n",
    "logits4 = filter_topk_topp(logits, k=0, p=0.9999999)\n",
    "print('\\nk=0, p=0.9999999:', logits4)\n",
    "\n",
    "logits5 = filter_topk_topp(logits, k=5, p=0.9999999)\n",
    "print('\\nk=5, p=0.9999999:', logits5)\n",
    "\n",
    "\n",
    "# You are expected to see the following output:\n",
    "# original logits: tensor([0., 1., 2., 3., 4., 5., 6., 7., 8., 9.])\n",
    "# k=5, p=0.0: tensor([-inf, -inf, -inf, -inf, -inf, 5., 6., 7., 8., 9.])\n",
    "# k=0, p=0.9: tensor([-inf, -inf, -inf, -inf, -inf, -inf, -inf, -inf, 8., 9.])\n",
    "# k=0, p=0.9999999: tensor([-inf, 1., 2., 3., 4., 5., 6., 7., 8., 9.])\n",
    "# k=5, p=0.9999999: tensor([-inf, -inf, -inf, -inf, -inf, 5., 6., 7., 8., 9.])"
   ]
  },
  {
   "cell_type": "markdown",
   "metadata": {},
   "source": [
    "In the following test, if all logits are `-inf`, then your top-p sampling is not correctly implemented. \n",
    "\n",
    "You wan to keep at least one element in the logits, whose logit value dominates the distribution. "
   ]
  },
  {
   "cell_type": "code",
   "execution_count": 20,
   "metadata": {},
   "outputs": [
    {
     "name": "stdout",
     "output_type": "stream",
     "text": [
      "original logits: tensor([ 0.,  1.,  4.,  9., 16., 25., 36., 49., 64., 81.])\n",
      "\n",
      "k=0, p=0.9: tensor([-inf, -inf, -inf, -inf, -inf, -inf, -inf, -inf, -inf, 81.])\n"
     ]
    }
   ],
   "source": [
    "logits_special = torch.tensor(np.arange(10)**2).float()\n",
    "print('original logits:', logits_special)\n",
    "\n",
    "logits6 = filter_topk_topp(logits_special, k=0, p=0.9)\n",
    "print('\\nk=0, p=0.9:', logits6)\n",
    "\n",
    "\n",
    "# You are expected to see the following output:\n",
    "# original logits: tensor([ 0.,  1.,  4.,  9., 16., 25., 36., 49., 64., 81.])\n",
    "# k=0, p=0.9: tensor([-inf, -inf, -inf, -inf, -inf, -inf, -inf, -inf, -inf, 81.])"
   ]
  },
  {
   "cell_type": "markdown",
   "metadata": {},
   "source": [
    "Finally, we integrate the filtering to the generation process."
   ]
  },
  {
   "cell_type": "code",
   "execution_count": 21,
   "metadata": {},
   "outputs": [],
   "source": [
    "def generate_topk_topp(input_text, k=50, p=0.9, max_gen_len=20):\n",
    "    '''\n",
    "    Generate tokens from the top-k and top-p filtered logits, and yield the sampled token id.\n",
    "    '''\n",
    "    input_encoded = gpt2_tokenizer(input_text, return_tensors=\"pt\", add_special_tokens=False)\n",
    "    input_ids = input_encoded.input_ids\n",
    "    attn_mask = input_encoded.attention_mask\n",
    "\n",
    "    count = 0\n",
    "    while count < max_gen_len:\n",
    "        output = gpt2_model(input_ids, attention_mask=attn_mask)\n",
    "        logits = output.logits\n",
    "\n",
    "        # Get last token logits\n",
    "        last_token_logits = logits[0, -1, :]\n",
    "\n",
    "        # Get the filtered logits by calling filter_topk_topp \n",
    "        filtered_logits = filter_topk_topp(last_token_logits, k=k, p=p)\n",
    "\n",
    "        # Sample from the remaining tokens in filtered_logits\n",
    "        filtered_probs = F.softmax(filtered_logits, dim=-1)  # Convert logits to probabilities\n",
    "        try:\n",
    "            sampled_index = torch.multinomial(filtered_probs, num_samples=1).item()  # Sample proportionally\n",
    "        except RuntimeError:\n",
    "            raise\n",
    "\n",
    "        # Yield the sampled token id\n",
    "        yield sampled_index\n",
    "        if sampled_index == gpt2_tokenizer.sep_token_id:\n",
    "            break\n",
    "\n",
    "        # Append the sampled token id to the input_ids, and extend the attention mask\n",
    "        sampled_token_tensor = torch.tensor([[sampled_index]], dtype=torch.long)\n",
    "        input_ids = torch.cat([input_ids, sampled_token_tensor], dim=1)\n",
    "        attn_mask = torch.cat([attn_mask, torch.ones((1, 1), dtype=torch.long)], dim=1)\n",
    "\n",
    "        count += 1\n"
   ]
  },
  {
   "cell_type": "code",
   "execution_count": 23,
   "metadata": {},
   "outputs": [
    {
     "name": "stdout",
     "output_type": "stream",
     "text": [
      "今天天气预报未来两天的天气趋势：阴天间多云，西南"
     ]
    }
   ],
   "source": [
    "# Test\n",
    "input_text = \"今天天气\"\n",
    "print(input_text, end='')\n",
    "for tok_id in generate_topk_topp(input_text, k=50, p=0.95):\n",
    "    print(gpt2_tokenizer.convert_ids_to_tokens(tok_id), end='')"
   ]
  },
  {
   "cell_type": "code",
   "execution_count": 24,
   "metadata": {},
   "outputs": [
    {
     "name": "stdout",
     "output_type": "stream",
     "text": [
      "子曰：人心比钱强。一个人的价值观念，是建立在钱是"
     ]
    }
   ],
   "source": [
    "# Test\n",
    "input_text = \"子曰：人\"\n",
    "print(input_text, end='')\n",
    "for tok_id in generate_topk_topp(input_text, k=50, p=0.95):\n",
    "    print(gpt2_tokenizer.convert_ids_to_tokens(tok_id), end='')"
   ]
  }
 ],
 "metadata": {
  "kernelspec": {
   "display_name": "DL312",
   "language": "python",
   "name": "python3"
  },
  "language_info": {
   "codemirror_mode": {
    "name": "ipython",
    "version": 3
   },
   "file_extension": ".py",
   "mimetype": "text/x-python",
   "name": "python",
   "nbconvert_exporter": "python",
   "pygments_lexer": "ipython3",
   "version": "3.12.7"
  }
 },
 "nbformat": 4,
 "nbformat_minor": 2
}
