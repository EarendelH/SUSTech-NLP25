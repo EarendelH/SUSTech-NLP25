{
 "cells": [
  {
   "cell_type": "markdown",
   "metadata": {},
   "source": [
    "## CS310 Natural Language Processing\n",
    "## Assignment 2. Word2vec Implementation \n",
    "\n",
    "**Total points**: 50\n",
    "\n",
    "Train a word2vec model using the **skip-gram** architecture and **negative sampling**.\n",
    "\n",
    "You should roughtly follow the structure of the notebook. Add additional cells if you feel needed. \n",
    "\n",
    "You can (and you should) re-use the code from *Lab 4 (part 2): Data preparation for implementing word2vec*. \n",
    "\n",
    "Make sure your code is readable and well-structured."
   ]
  },
  {
   "cell_type": "markdown",
   "metadata": {},
   "source": [
    "### 0. Import Necessary Libraries"
   ]
  },
  {
   "cell_type": "code",
   "execution_count": 1,
   "metadata": {},
   "outputs": [],
   "source": [
    "from typing import List\n",
    "from utils import CorpusReader\n",
    "import torch\n",
    "import torch.nn as nn\n",
    "import torch.nn.functional as F\n",
    "import numpy as np\n",
    "import matplotlib.pyplot as plt\n",
    "from sklearn.decomposition import TruncatedSVD\n",
    "from tqdm import tqdm\n",
    "import numpy as np\n",
    "from sklearn.decomposition import TruncatedSVD\n",
    "import matplotlib.pyplot as plt"
   ]
  },
  {
   "cell_type": "code",
   "execution_count": 2,
   "metadata": {},
   "outputs": [
    {
     "data": {
      "text/plain": [
       "True"
      ]
     },
     "execution_count": 2,
     "metadata": {},
     "output_type": "execute_result"
    }
   ],
   "source": [
    "torch.cuda.is_available()"
   ]
  },
  {
   "cell_type": "markdown",
   "metadata": {},
   "source": [
    "## 1. Data Processing\n",
    "\n",
    "The corpus data is in `lunyu_20chapters.txt`. Use the `CorpusReader` class in `utils.py` to help you."
   ]
  },
  {
   "cell_type": "code",
   "execution_count": 3,
   "metadata": {},
   "outputs": [
    {
     "name": "stdout",
     "output_type": "stream",
     "text": [
      "Total vocabulary: 1352\n"
     ]
    }
   ],
   "source": [
    "# Read raw data in lunyu_20chapters.txt\n",
    "\n",
    "### YOUR CODE HERE ###\n",
    "corpus = CorpusReader(inputFileName=\"lunyu_20chapters.txt\", min_count=1)\n",
    "### END YOUR CODE ###"
   ]
  },
  {
   "cell_type": "code",
   "execution_count": 4,
   "metadata": {},
   "outputs": [],
   "source": [
    "# Re-use the code from lab with necessary modifications\n",
    "\n",
    "def generate_data(words: List[str], window_size: int, k: int, corpus: CorpusReader):\n",
    "    \"\"\" Generate the training data for word2vec skip-gram model\n",
    "    Args:\n",
    "        text: the input text\n",
    "        window_size: the size of the context window\n",
    "        k: the number of negative samples\n",
    "        corpus: the corpus object, providing utilities such as word2id, getNegatives, etc.\n",
    "    \"\"\"\n",
    "    ### YOUR CODE HERE ###\n",
    "    word_ids = []\n",
    "    for word in words:\n",
    "        word_ids.append(corpus.word2id[word])\n",
    "\n",
    "    for i in range(len(word_ids)):\n",
    "        center_word = word_ids[i]\n",
    "        context_words = word_ids[max(0, i - window_size):i] + word_ids[i + 1:i + window_size + 1]\n",
    "        for context_word in context_words:\n",
    "            yield center_word, context_word, corpus.getNegatives(center_word, k)\n",
    "    ### END YOUR CODE ###\n",
    "\n",
    "def batchify(data: List, batch_size: int):\n",
    "    \"\"\" Group a stream into batches and yield them as torch tensors.\n",
    "    Args:\n",
    "        data: a list of tuples\n",
    "        batch_size: the batch size \n",
    "    Yields:\n",
    "        a tuple of three torch tensors: center, outside, negative\n",
    "    \"\"\"\n",
    "    assert batch_size < len(data) # data should be long enough\n",
    "    for i in range(0, len(data), batch_size):\n",
    "        batch = data[i:i + batch_size]\n",
    "        if i > len(data) - batch_size: # if the last batch is smaller than batch_size, pad it with the first few data\n",
    "            batch = batch + data[:i + batch_size - len(data)]\n",
    "        \n",
    "        ### YOUR CODE HERE ###\n",
    "        centers = []\n",
    "        outsides = []\n",
    "        negatives = []\n",
    "        for center, outside, negative in batch:\n",
    "            centers.append(center)\n",
    "            outsides.append(outside)\n",
    "            negatives.append(negative)\n",
    "        centers = torch.tensor(centers)\n",
    "        outsides = torch.tensor(outsides)\n",
    "        negatives = torch.tensor(negatives)\n",
    "\n",
    "        yield centers, outsides, negatives\n",
    "        ### END YOUR CODE ###"
   ]
  },
  {
   "cell_type": "markdown",
   "metadata": {},
   "source": [
    "## 2. Define the Model"
   ]
  },
  {
   "cell_type": "code",
   "execution_count": null,
   "metadata": {},
   "outputs": [],
   "source": [
    "class SkipGram(nn.Module):\n",
    "    def __init__(self, vocab_size, emb_size):\n",
    "        super(SkipGram, self).__init__()\n",
    "        self.vocab_size = vocab_size\n",
    "        self.emb_size = emb_size\n",
    "        self.emb_v = nn.Embedding(vocab_size, emb_size, sparse=True)\n",
    "        self.emb_u = nn.Embedding(vocab_size, emb_size, sparse=True)\n",
    "\n",
    "        initrange = 1.0 / self.emb_size # some experience passed down from generation to generation\n",
    "        nn.init.uniform_(self.emb_v.weight.data, -initrange, initrange) # same outcome as self.emb_v.weight.data.uniform_(-initrange, initrange)\n",
    "        nn.init.constant_(self.emb_u.weight.data, 0) # same outcome as self.emb_u.weight.data.zero_()\n",
    "\n",
    "    def forward(self, center, outside, negative):\n",
    "        \"\"\"\n",
    "        Args:\n",
    "            center: the center word indices (B, )\n",
    "            outside: the outside word indices (B, )\n",
    "            negative: the negative word indices (B, k)\n",
    "        \"\"\"\n",
    "        v_c = self.emb_v(center)\n",
    "        u_o = self.emb_u(outside)\n",
    "        u_n = self.emb_u(negative)\n",
    "        \n",
    "        ### YOUR CODE HERE ###\n",
    "        loss = None\n",
    "        pos_score = torch.sum(v_c * u_o, dim=1)\n",
    "        pos_score_clamped = torch.clamp(pos_score, min=-100, max=100)\n",
    "        pos_loss = -F.logsigmoid(pos_score_clamped)\n",
    "        \n",
    "        neg_score = torch.sum(v_c.unsqueeze(1) * u_n, dim=2)\n",
    "        neg_score_clamped = torch.clamp(neg_score, min=-100, max=100)\n",
    "        neg_loss = -F.logsigmoid(-neg_score_clamped)\n",
    "        neg_loss = torch.sum(neg_loss, dim=1)\n",
    "        \n",
    "        loss = pos_loss + neg_loss\n",
    "        # Hint: torch.clamp the input to F.logsigmoid to avoid numerical underflow/overflow\n",
    "        ### END YOUR CODE ###\n",
    "        \n",
    "        return loss\n",
    "    \n",
    "    def save_embedding(self, id2word, file_name):\n",
    "        embedding = self.emb_v.weight.cpu().data.numpy()\n",
    "        with open(file_name, 'w') as f:\n",
    "            f.write('%d %d\\n' % (len(id2word), self.emb_size))\n",
    "            for wid, w in id2word.items():\n",
    "                e = ' '.join(map(lambda x: str(x), embedding[wid]))\n",
    "                f.write('%s %s\\n' % (w, e))"
   ]
  },
  {
   "cell_type": "code",
   "execution_count": 6,
   "metadata": {},
   "outputs": [],
   "source": [
    "# corpus = CorpusReader('lunyu_20chapters.txt', 1)\n",
    "vocab_size = corpus.vocab_size"
   ]
  },
  {
   "cell_type": "markdown",
   "metadata": {},
   "source": [
    "## 3. Train and Evaluate"
   ]
  },
  {
   "cell_type": "code",
   "execution_count": null,
   "metadata": {},
   "outputs": [],
   "source": [
    "def train(model, dataloader, optimizer, scheduler, epochs):\n",
    "    # Write your own code for this train function\n",
    "    # You don't need exactly the same arguments\n",
    "\n",
    "    ### YOUR CODE HERE ###\n",
    "    \n",
    "    model.train()\n",
    "    device = \"cpu\" if not torch.cuda.is_available() else \"cuda\"\n",
    "    model.to(device)\n",
    "    print(f\"device: {device}\")\n",
    "    epoch_loss = np.zeros(epochs)\n",
    "    total_steps = 0\n",
    "    for epoch in tqdm(range(epochs)):\n",
    "        epoch_loss[epoch] = 0\n",
    "        epoch_loss_temp = []\n",
    "        for i, (center_word, context_word, negative_words) in enumerate(dataloader):\n",
    "            center_word = center_word.to(device)\n",
    "            context_word = context_word.to(device)\n",
    "            negative_words = negative_words.to(device)\n",
    "            \n",
    "            loss = model(center_word, context_word, negative_words).mean()\n",
    "            # print(f\"loss ,{loss}\")\n",
    "            epoch_loss_temp.append(loss.item())\n",
    "            optimizer.zero_grad()\n",
    "            loss.backward()\n",
    "            optimizer.step()\n",
    "            scheduler.step()\n",
    "            total_steps += 1\n",
    "            \n",
    "            # if (i+1) % 5 == 0:\n",
    "            #     print(f\"Epoch {epoch+1}, Step {i+1}, Loss: {loss.item():.4f}\")\n",
    "        epoch_loss[epoch] = np.mean(epoch_loss_temp)\n",
    "        if (epoch+1) % 5 == 0:\n",
    "            print(f\"[Epoch {epoch+1}, Loss: {epoch_loss[epoch]:.4f}]\")\n",
    "    return epoch_loss\n",
    "\n",
    "    ### END YOUR CODE ###"
   ]
  },
  {
   "cell_type": "code",
   "execution_count": null,
   "metadata": {},
   "outputs": [],
   "source": [
    "\n",
    "from torch.utils.data import DataLoader\n",
    "# Suggested hyperparameters\n",
    "initial_lr = 0.025\n",
    "batch_size = 16\n",
    "emb_size = 50\n",
    "window_size = 5\n",
    "k = 10 # the number of negative samples, change with your own choice for better embedding performance\n",
    "min_count = 1 # because our data is small. If min_count > 1, you should filter out those unknown words from the data in train() function\n",
    "# optimizer = torch.optim.Adam(model.parameters(), lr=initial_lr) # or torch.optim.SparseAdam()\n",
    "# scheduler = torch.optim.lr_scheduler.CosineAnnealingLR() # or torch.optim.lr_scheduler.StepLR()\n",
    "\n",
    "\n",
    "with open(\"lunyu_20chapters.txt\", \"r\", encoding=\"utf-8\") as f:\n",
    "    text = f.read()\n",
    "text=text.replace(\"\\n\", \"\")\n",
    "text=text.replace(\" \", \"\")\n",
    "words = list(text)\n",
    "### Hints: ###\n",
    "# - If you have cuda-supported GPUs, you can run the training faster by\n",
    "#   `device = torch.device(\"cuda\" if self.use_cuda else \"cpu\")`\n",
    "#   `model.cuda()`\n",
    "#   You also need to move all tensor data to the same device\n",
    "# - If you find Inf or NaN in the loss, you can try to clip the gradient usning `torch.nn.utils.clip_grad_norm_`\n",
    "# - Remember to save the embeddings when training is done"
   ]
  },
  {
   "cell_type": "code",
   "execution_count": 9,
   "metadata": {},
   "outputs": [
    {
     "name": "stderr",
     "output_type": "stream",
     "text": [
      "/tmp/ipykernel_1784905/2220791497.py:47: UserWarning: Creating a tensor from a list of numpy.ndarrays is extremely slow. Please consider converting the list to a single numpy.ndarray with numpy.array() before converting to a tensor. (Triggered internally at ../torch/csrc/utils/tensor_new.cpp:278.)\n",
      "  negatives = torch.tensor(negatives)\n"
     ]
    },
    {
     "name": "stdout",
     "output_type": "stream",
     "text": [
      "device: cuda\n"
     ]
    },
    {
     "name": "stderr",
     "output_type": "stream",
     "text": [
      " 25%|██▌       | 5/20 [00:42<02:05,  8.37s/it]"
     ]
    },
    {
     "name": "stdout",
     "output_type": "stream",
     "text": [
      "[Epoch 5, Loss: 1.0547]\n"
     ]
    },
    {
     "name": "stderr",
     "output_type": "stream",
     "text": [
      " 50%|█████     | 10/20 [01:23<01:23,  8.40s/it]"
     ]
    },
    {
     "name": "stdout",
     "output_type": "stream",
     "text": [
      "[Epoch 10, Loss: 0.9555]\n"
     ]
    },
    {
     "name": "stderr",
     "output_type": "stream",
     "text": [
      " 75%|███████▌  | 15/20 [02:06<00:42,  8.54s/it]"
     ]
    },
    {
     "name": "stdout",
     "output_type": "stream",
     "text": [
      "[Epoch 15, Loss: 0.9362]\n"
     ]
    },
    {
     "name": "stderr",
     "output_type": "stream",
     "text": [
      "100%|██████████| 20/20 [02:49<00:00,  8.46s/it]"
     ]
    },
    {
     "name": "stdout",
     "output_type": "stream",
     "text": [
      "[Epoch 20, Loss: 0.9284]\n"
     ]
    },
    {
     "name": "stderr",
     "output_type": "stream",
     "text": [
      "\n"
     ]
    }
   ],
   "source": [
    "model1 = SkipGram(vocab_size, emb_size=50)\n",
    "data= list(generate_data(words, window_size=1, k=2, corpus=corpus))\n",
    "train_data = list(batchify(data, batch_size=batch_size))\n",
    "dataloader = DataLoader(train_data, batch_size=batch_size, shuffle=True)\n",
    "optimizer = torch.optim.SparseAdam(model1.parameters(), lr=initial_lr)\n",
    "scheduler = torch.optim.lr_scheduler.CosineAnnealingLR(optimizer, T_max=10)\n",
    "# Train the model\n",
    "loss_emb50_k2_win1= train(model1, train_data, optimizer,scheduler,epochs=20)"
   ]
  },
  {
   "cell_type": "code",
   "execution_count": 10,
   "metadata": {},
   "outputs": [],
   "source": [
    "output_file = 'emb50_k2_win1_embeddings.txt'\n",
    "weights = model1.emb_v.weight.cpu().data.numpy()\n",
    "with open(output_file, \"w\") as f:\n",
    "    f.write(f\"{vocab_size} {emb_size}\\n\")  # First line: vocab size and vector dimension\n",
    "    for idx, vector in enumerate(weights):\n",
    "        vector_str = \" \".join(map(str, vector))\n",
    "        f.write(f\"{corpus.id2word[idx]} {vector_str}\\n\") "
   ]
  },
  {
   "cell_type": "code",
   "execution_count": 11,
   "metadata": {},
   "outputs": [
    {
     "name": "stdout",
     "output_type": "stream",
     "text": [
      "device: cuda\n"
     ]
    },
    {
     "name": "stderr",
     "output_type": "stream",
     "text": [
      " 25%|██▌       | 5/20 [00:42<02:07,  8.50s/it]"
     ]
    },
    {
     "name": "stdout",
     "output_type": "stream",
     "text": [
      "[Epoch 5, Loss: 1.7580]\n"
     ]
    },
    {
     "name": "stderr",
     "output_type": "stream",
     "text": [
      " 50%|█████     | 10/20 [01:25<01:25,  8.53s/it]"
     ]
    },
    {
     "name": "stdout",
     "output_type": "stream",
     "text": [
      "[Epoch 10, Loss: 1.5612]\n"
     ]
    },
    {
     "name": "stderr",
     "output_type": "stream",
     "text": [
      " 75%|███████▌  | 15/20 [02:08<00:43,  8.63s/it]"
     ]
    },
    {
     "name": "stdout",
     "output_type": "stream",
     "text": [
      "[Epoch 15, Loss: 1.5224]\n"
     ]
    },
    {
     "name": "stderr",
     "output_type": "stream",
     "text": [
      "100%|██████████| 20/20 [02:51<00:00,  8.56s/it]"
     ]
    },
    {
     "name": "stdout",
     "output_type": "stream",
     "text": [
      "[Epoch 20, Loss: 1.5107]\n"
     ]
    },
    {
     "name": "stderr",
     "output_type": "stream",
     "text": [
      "\n"
     ]
    }
   ],
   "source": [
    "model2 = SkipGram(vocab_size, emb_size=50)\n",
    "data= list(generate_data(words, window_size=1, k=5, corpus=corpus))\n",
    "train_data = list(batchify(data, batch_size=batch_size))\n",
    "dataloader = DataLoader(train_data, batch_size=batch_size, shuffle=True)\n",
    "optimizer = torch.optim.SparseAdam(model2.parameters(), lr=initial_lr)\n",
    "scheduler = torch.optim.lr_scheduler.CosineAnnealingLR(optimizer, T_max=10)\n",
    "# Train the model\n",
    "loss_emb50_k5_win1= train(model2, train_data, optimizer,scheduler,epochs=20)"
   ]
  },
  {
   "cell_type": "code",
   "execution_count": 12,
   "metadata": {},
   "outputs": [],
   "source": [
    "output_file = 'emb50_k5_win1_embeddings.txt'\n",
    "weights = model2.emb_v.weight.cpu().data.numpy()\n",
    "with open(output_file, \"w\") as f:\n",
    "    f.write(f\"{vocab_size} {emb_size}\\n\")  # First line: vocab size and vector dimension\n",
    "    for idx, vector in enumerate(weights):\n",
    "        vector_str = \" \".join(map(str, vector))\n",
    "        f.write(f\"{corpus.id2word[idx]} {vector_str}\\n\") "
   ]
  },
  {
   "cell_type": "code",
   "execution_count": 13,
   "metadata": {},
   "outputs": [
    {
     "name": "stdout",
     "output_type": "stream",
     "text": [
      "device: cuda\n"
     ]
    },
    {
     "name": "stderr",
     "output_type": "stream",
     "text": [
      " 25%|██▌       | 5/20 [02:06<06:13, 24.89s/it]"
     ]
    },
    {
     "name": "stdout",
     "output_type": "stream",
     "text": [
      "[Epoch 5, Loss: 1.4750]\n"
     ]
    },
    {
     "name": "stderr",
     "output_type": "stream",
     "text": [
      " 50%|█████     | 10/20 [04:13<04:13, 25.36s/it]"
     ]
    },
    {
     "name": "stdout",
     "output_type": "stream",
     "text": [
      "[Epoch 10, Loss: 1.3740]\n"
     ]
    },
    {
     "name": "stderr",
     "output_type": "stream",
     "text": [
      " 75%|███████▌  | 15/20 [06:21<02:07, 25.57s/it]"
     ]
    },
    {
     "name": "stdout",
     "output_type": "stream",
     "text": [
      "[Epoch 15, Loss: 1.3446]\n"
     ]
    },
    {
     "name": "stderr",
     "output_type": "stream",
     "text": [
      "100%|██████████| 20/20 [08:28<00:00, 25.42s/it]"
     ]
    },
    {
     "name": "stdout",
     "output_type": "stream",
     "text": [
      "[Epoch 20, Loss: 1.3313]\n"
     ]
    },
    {
     "name": "stderr",
     "output_type": "stream",
     "text": [
      "\n"
     ]
    }
   ],
   "source": [
    "model3 = SkipGram(vocab_size, emb_size=50)\n",
    "data= list(generate_data(words, window_size=3, k=2, corpus=corpus))\n",
    "train_data = list(batchify(data, batch_size=batch_size))\n",
    "dataloader = DataLoader(train_data, batch_size=batch_size, shuffle=True)\n",
    "optimizer = torch.optim.SparseAdam(model3.parameters(), lr=initial_lr)\n",
    "scheduler = torch.optim.lr_scheduler.CosineAnnealingLR(optimizer, T_max=10)\n",
    "# Train the model\n",
    "loss_emb50_k2_win3= train(model3, train_data, optimizer,scheduler,epochs=20)"
   ]
  },
  {
   "cell_type": "code",
   "execution_count": 14,
   "metadata": {},
   "outputs": [],
   "source": [
    "output_file = 'emb50_k2_win3_embeddings.txt'\n",
    "weights = model3.emb_v.weight.cpu().data.numpy()\n",
    "with open(output_file, \"w\") as f:\n",
    "    f.write(f\"{vocab_size} {emb_size}\\n\")  # First line: vocab size and vector dimension\n",
    "    for idx, vector in enumerate(weights):\n",
    "        vector_str = \" \".join(map(str, vector))\n",
    "        f.write(f\"{corpus.id2word[idx]} {vector_str}\\n\") "
   ]
  },
  {
   "cell_type": "code",
   "execution_count": 15,
   "metadata": {},
   "outputs": [
    {
     "name": "stdout",
     "output_type": "stream",
     "text": [
      "device: cuda\n"
     ]
    },
    {
     "name": "stderr",
     "output_type": "stream",
     "text": [
      " 25%|██▌       | 5/20 [02:09<06:26, 25.76s/it]"
     ]
    },
    {
     "name": "stdout",
     "output_type": "stream",
     "text": [
      "[Epoch 5, Loss: 2.2641]\n"
     ]
    },
    {
     "name": "stderr",
     "output_type": "stream",
     "text": [
      " 50%|█████     | 10/20 [04:17<04:15, 25.60s/it]"
     ]
    },
    {
     "name": "stdout",
     "output_type": "stream",
     "text": [
      "[Epoch 10, Loss: 2.1160]\n"
     ]
    },
    {
     "name": "stderr",
     "output_type": "stream",
     "text": [
      " 75%|███████▌  | 15/20 [06:24<02:07, 25.52s/it]"
     ]
    },
    {
     "name": "stdout",
     "output_type": "stream",
     "text": [
      "[Epoch 15, Loss: 2.0712]\n"
     ]
    },
    {
     "name": "stderr",
     "output_type": "stream",
     "text": [
      "100%|██████████| 20/20 [08:32<00:00, 25.63s/it]"
     ]
    },
    {
     "name": "stdout",
     "output_type": "stream",
     "text": [
      "[Epoch 20, Loss: 2.0505]\n"
     ]
    },
    {
     "name": "stderr",
     "output_type": "stream",
     "text": [
      "\n"
     ]
    }
   ],
   "source": [
    "model4 = SkipGram(vocab_size, emb_size=50)\n",
    "data= list(generate_data(words, window_size=3, k=5, corpus=corpus))\n",
    "train_data = list(batchify(data, batch_size=batch_size))\n",
    "dataloader = DataLoader(train_data, batch_size=batch_size, shuffle=True)\n",
    "optimizer = torch.optim.SparseAdam(model4.parameters(), lr=initial_lr)\n",
    "scheduler = torch.optim.lr_scheduler.CosineAnnealingLR(optimizer, T_max=10)\n",
    "# Train the model\n",
    "loss_emb50_k5_win3= train(model4, train_data, optimizer,scheduler,epochs=20)"
   ]
  },
  {
   "cell_type": "code",
   "execution_count": 16,
   "metadata": {},
   "outputs": [],
   "source": [
    "output_file = 'emb50_k5_win3_embeddings.txt'\n",
    "weights = model4.emb_v.weight.cpu().data.numpy()\n",
    "with open(output_file, \"w\") as f:\n",
    "    f.write(f\"{vocab_size} {emb_size}\\n\")  # First line: vocab size and vector dimension\n",
    "    for idx, vector in enumerate(weights):\n",
    "        vector_str = \" \".join(map(str, vector))\n",
    "        f.write(f\"{corpus.id2word[idx]} {vector_str}\\n\") "
   ]
  },
  {
   "cell_type": "code",
   "execution_count": null,
   "metadata": {},
   "outputs": [
    {
     "name": "stdout",
     "output_type": "stream",
     "text": [
      "device: cuda\n"
     ]
    },
    {
     "name": "stderr",
     "output_type": "stream",
     "text": [
      " 25%|██▌       | 5/20 [00:42<02:06,  8.44s/it]"
     ]
    },
    {
     "name": "stdout",
     "output_type": "stream",
     "text": [
      "[Epoch 5, Loss: 1.0396]\n"
     ]
    },
    {
     "name": "stderr",
     "output_type": "stream",
     "text": [
      " 50%|█████     | 10/20 [01:24<01:23,  8.33s/it]"
     ]
    },
    {
     "name": "stdout",
     "output_type": "stream",
     "text": [
      "[Epoch 10, Loss: 0.9731]\n"
     ]
    },
    {
     "name": "stderr",
     "output_type": "stream",
     "text": [
      " 75%|███████▌  | 15/20 [02:05<00:41,  8.34s/it]"
     ]
    },
    {
     "name": "stdout",
     "output_type": "stream",
     "text": [
      "[Epoch 15, Loss: 0.9578]\n"
     ]
    },
    {
     "name": "stderr",
     "output_type": "stream",
     "text": [
      "100%|██████████| 20/20 [02:47<00:00,  8.37s/it]"
     ]
    },
    {
     "name": "stdout",
     "output_type": "stream",
     "text": [
      "[Epoch 20, Loss: 0.9541]\n"
     ]
    },
    {
     "name": "stderr",
     "output_type": "stream",
     "text": [
      "\n"
     ]
    }
   ],
   "source": [
    "emb_size=100\n",
    "model5 = SkipGram(vocab_size, emb_size=100)\n",
    "data= list(generate_data(words, window_size=1, k=2, corpus=corpus))\n",
    "train_data = list(batchify(data, batch_size=batch_size))\n",
    "dataloader = DataLoader(train_data, batch_size=batch_size, shuffle=True)\n",
    "optimizer = torch.optim.SparseAdam(model5.parameters(), lr=initial_lr)\n",
    "scheduler = torch.optim.lr_scheduler.CosineAnnealingLR(optimizer, T_max=10)\n",
    "# Train the model\n",
    "loss_emb100_k2_win1= train(model5, train_data, optimizer,scheduler,epochs=20)"
   ]
  },
  {
   "cell_type": "code",
   "execution_count": 18,
   "metadata": {},
   "outputs": [],
   "source": [
    "output_file = 'emb100_k2_win1_embeddings.txt'\n",
    "weights = model5.emb_v.weight.cpu().data.numpy()\n",
    "with open(output_file, \"w\") as f:\n",
    "    f.write(f\"{vocab_size} {emb_size}\\n\")  # First line: vocab size and vector dimension\n",
    "    for idx, vector in enumerate(weights):\n",
    "        vector_str = \" \".join(map(str, vector))\n",
    "        f.write(f\"{corpus.id2word[idx]} {vector_str}\\n\") "
   ]
  },
  {
   "cell_type": "code",
   "execution_count": 19,
   "metadata": {},
   "outputs": [
    {
     "name": "stdout",
     "output_type": "stream",
     "text": [
      "device: cuda\n"
     ]
    },
    {
     "name": "stderr",
     "output_type": "stream",
     "text": [
      " 25%|██▌       | 5/20 [00:42<02:08,  8.57s/it]"
     ]
    },
    {
     "name": "stdout",
     "output_type": "stream",
     "text": [
      "[Epoch 5, Loss: 1.7091]\n"
     ]
    },
    {
     "name": "stderr",
     "output_type": "stream",
     "text": [
      " 50%|█████     | 10/20 [01:26<01:27,  8.70s/it]"
     ]
    },
    {
     "name": "stdout",
     "output_type": "stream",
     "text": [
      "[Epoch 10, Loss: 1.5734]\n"
     ]
    },
    {
     "name": "stderr",
     "output_type": "stream",
     "text": [
      " 75%|███████▌  | 15/20 [02:09<00:43,  8.66s/it]"
     ]
    },
    {
     "name": "stdout",
     "output_type": "stream",
     "text": [
      "[Epoch 15, Loss: 1.5488]\n"
     ]
    },
    {
     "name": "stderr",
     "output_type": "stream",
     "text": [
      "100%|██████████| 20/20 [02:52<00:00,  8.61s/it]"
     ]
    },
    {
     "name": "stdout",
     "output_type": "stream",
     "text": [
      "[Epoch 20, Loss: 1.5425]\n"
     ]
    },
    {
     "name": "stderr",
     "output_type": "stream",
     "text": [
      "\n"
     ]
    }
   ],
   "source": [
    "model6 = SkipGram(vocab_size, emb_size=100)\n",
    "data= list(generate_data(words, window_size=1, k=5, corpus=corpus))\n",
    "train_data = list(batchify(data, batch_size=batch_size))\n",
    "dataloader = DataLoader(train_data, batch_size=batch_size, shuffle=True)\n",
    "optimizer = torch.optim.SparseAdam(model6.parameters(), lr=initial_lr)\n",
    "scheduler = torch.optim.lr_scheduler.CosineAnnealingLR(optimizer, T_max=10)\n",
    "# Train the model\n",
    "loss_emb100_k5_win1= train(model6, train_data, optimizer,scheduler,epochs=20)"
   ]
  },
  {
   "cell_type": "code",
   "execution_count": 20,
   "metadata": {},
   "outputs": [],
   "source": [
    "output_file = 'emb100_k5_win1_embeddings.txt'\n",
    "weights = model6.emb_v.weight.cpu().data.numpy()\n",
    "with open(output_file, \"w\") as f:\n",
    "    f.write(f\"{vocab_size} {emb_size}\\n\")  # First line: vocab size and vector dimension\n",
    "    for idx, vector in enumerate(weights):\n",
    "        vector_str = \" \".join(map(str, vector))\n",
    "        f.write(f\"{corpus.id2word[idx]} {vector_str}\\n\") "
   ]
  },
  {
   "cell_type": "code",
   "execution_count": 21,
   "metadata": {},
   "outputs": [
    {
     "name": "stdout",
     "output_type": "stream",
     "text": [
      "device: cuda\n"
     ]
    },
    {
     "name": "stderr",
     "output_type": "stream",
     "text": [
      " 25%|██▌       | 5/20 [02:15<07:03, 28.23s/it]"
     ]
    },
    {
     "name": "stdout",
     "output_type": "stream",
     "text": [
      "[Epoch 5, Loss: 1.4177]\n"
     ]
    },
    {
     "name": "stderr",
     "output_type": "stream",
     "text": [
      " 50%|█████     | 10/20 [04:24<04:19, 25.97s/it]"
     ]
    },
    {
     "name": "stdout",
     "output_type": "stream",
     "text": [
      "[Epoch 10, Loss: 1.3435]\n"
     ]
    },
    {
     "name": "stderr",
     "output_type": "stream",
     "text": [
      " 75%|███████▌  | 15/20 [06:32<02:08, 25.78s/it]"
     ]
    },
    {
     "name": "stdout",
     "output_type": "stream",
     "text": [
      "[Epoch 15, Loss: 1.3276]\n"
     ]
    },
    {
     "name": "stderr",
     "output_type": "stream",
     "text": [
      "100%|██████████| 20/20 [08:38<00:00, 25.91s/it]"
     ]
    },
    {
     "name": "stdout",
     "output_type": "stream",
     "text": [
      "[Epoch 20, Loss: 1.3213]\n"
     ]
    },
    {
     "name": "stderr",
     "output_type": "stream",
     "text": [
      "\n"
     ]
    }
   ],
   "source": [
    "model7 = SkipGram(vocab_size, emb_size=100)\n",
    "data= list(generate_data(words, window_size=3, k=2, corpus=corpus))\n",
    "train_data = list(batchify(data, batch_size=batch_size))\n",
    "dataloader = DataLoader(train_data, batch_size=batch_size, shuffle=True)\n",
    "optimizer = torch.optim.SparseAdam(model7.parameters(), lr=initial_lr)\n",
    "scheduler = torch.optim.lr_scheduler.CosineAnnealingLR(optimizer, T_max=10)\n",
    "# Train the model\n",
    "loss_emb100_k2_win3= train(model7, train_data, optimizer,scheduler,epochs=20)"
   ]
  },
  {
   "cell_type": "code",
   "execution_count": 22,
   "metadata": {},
   "outputs": [],
   "source": [
    "output_file = 'emb100_k2_win3_embeddings.txt'\n",
    "weights = model7.emb_v.weight.cpu().data.numpy()\n",
    "with open(output_file, \"w\") as f:\n",
    "    f.write(f\"{vocab_size} {emb_size}\\n\")  # First line: vocab size and vector dimension\n",
    "    for idx, vector in enumerate(weights):\n",
    "        vector_str = \" \".join(map(str, vector))\n",
    "        f.write(f\"{corpus.id2word[idx]} {vector_str}\\n\") "
   ]
  },
  {
   "cell_type": "code",
   "execution_count": 23,
   "metadata": {},
   "outputs": [
    {
     "name": "stdout",
     "output_type": "stream",
     "text": [
      "device: cuda\n"
     ]
    },
    {
     "name": "stderr",
     "output_type": "stream",
     "text": [
      " 25%|██▌       | 5/20 [02:09<06:28, 25.93s/it]"
     ]
    },
    {
     "name": "stdout",
     "output_type": "stream",
     "text": [
      "[Epoch 5, Loss: 2.1932]\n"
     ]
    },
    {
     "name": "stderr",
     "output_type": "stream",
     "text": [
      " 50%|█████     | 10/20 [04:16<04:14, 25.50s/it]"
     ]
    },
    {
     "name": "stdout",
     "output_type": "stream",
     "text": [
      "[Epoch 10, Loss: 2.0623]\n"
     ]
    },
    {
     "name": "stderr",
     "output_type": "stream",
     "text": [
      " 75%|███████▌  | 15/20 [06:23<02:07, 25.40s/it]"
     ]
    },
    {
     "name": "stdout",
     "output_type": "stream",
     "text": [
      "[Epoch 15, Loss: 2.0353]\n"
     ]
    },
    {
     "name": "stderr",
     "output_type": "stream",
     "text": [
      "100%|██████████| 20/20 [08:30<00:00, 25.52s/it]"
     ]
    },
    {
     "name": "stdout",
     "output_type": "stream",
     "text": [
      "[Epoch 20, Loss: 2.0245]\n"
     ]
    },
    {
     "name": "stderr",
     "output_type": "stream",
     "text": [
      "\n"
     ]
    }
   ],
   "source": [
    "model8 = SkipGram(vocab_size, emb_size=100)\n",
    "data= list(generate_data(words, window_size=3, k=5, corpus=corpus))\n",
    "train_data = list(batchify(data, batch_size=batch_size))\n",
    "dataloader = DataLoader(train_data, batch_size=batch_size, shuffle=True)\n",
    "optimizer = torch.optim.SparseAdam(model8.parameters(), lr=initial_lr)\n",
    "scheduler = torch.optim.lr_scheduler.CosineAnnealingLR(optimizer, T_max=10)\n",
    "# Train the model\n",
    "loss_emb100_k5_win3= train(model8, train_data, optimizer,scheduler,epochs=20)"
   ]
  },
  {
   "cell_type": "code",
   "execution_count": 24,
   "metadata": {},
   "outputs": [],
   "source": [
    "output_file = 'emb100_k5_win3_embeddings.txt'\n",
    "weights = model8.emb_v.weight.cpu().data.numpy()\n",
    "with open(output_file, \"w\") as f:\n",
    "    f.write(f\"{vocab_size} {emb_size}\\n\")  # First line: vocab size and vector dimension\n",
    "    for idx, vector in enumerate(weights):\n",
    "        vector_str = \" \".join(map(str, vector))\n",
    "        f.write(f\"{corpus.id2word[idx]} {vector_str}\\n\") "
   ]
  },
  {
   "cell_type": "code",
   "execution_count": null,
   "metadata": {},
   "outputs": [
    {
     "data": {
      "image/png": "[encoded data removed]",
      "text/plain": [
       "<Figure size 1000x600 with 1 Axes>"
      ]
     },
     "metadata": {},
     "output_type": "display_data"
    }
   ],
   "source": [
    "import matplotlib.pyplot as plt\n",
    "\n",
    "epochs = list(range(1, 21)) \n",
    "\n",
    "plt.figure(figsize=(10, 6))\n",
    "plt.plot(epochs, loss_emb50_k2_win1, marker='o', label='Emb_size 50, k=2, win_size=1')\n",
    "plt.plot(epochs, loss_emb50_k2_win3, marker='o', label='Emb_size 50, k=2, win_size=3')\n",
    "plt.plot(epochs, loss_emb50_k5_win1, marker='o', label='Emb_size 50, k=5, win_size=1')\n",
    "plt.plot(epochs, loss_emb50_k5_win3, marker='o', label='Emb_size 50, k=5, win_size=3')\n",
    "\n",
    "plt.plot(epochs, loss_emb100_k2_win1, marker='*', label='Emb_size 100, k=2, win_size=1')\n",
    "plt.plot(epochs, loss_emb100_k2_win3, marker='*', label='Emb_size 100, k=2, win_size=3')\n",
    "plt.plot(epochs, loss_emb100_k5_win1, marker='*', label='Emb_size 100, k=5, win_size=1')\n",
    "plt.plot(epochs, loss_emb100_k5_win3, marker='*', label='Emb_size 100, k=5, win_size=3') \n",
    "\n",
    "plt.title('Loss comparison for Emb size 50 and Emb_size 100')\n",
    "plt.xlabel('Epoch')\n",
    "plt.ylabel('Loss')\n",
    "plt.legend()\n",
    "plt.grid(True)\n",
    "plt.show()\n"
   ]
  },
  {
   "cell_type": "code",
   "execution_count": null,
   "metadata": {},
   "outputs": [],
   "source": []
  },
  {
   "cell_type": "markdown",
   "metadata": {},
   "source": [
    "## 4. Save the Embeddings\n",
    "\n",
    "\n",
    "Save the embeddings into a `gensim` compatible format."
   ]
  },
  {
   "cell_type": "code",
   "execution_count": null,
   "metadata": {},
   "outputs": [],
   "source": [
    "# The embeddings has saved above."
   ]
  },
  {
   "cell_type": "markdown",
   "metadata": {},
   "source": [
    "## 5. Plot and Compare Embeddings\n",
    "\n",
    "Use `sklearn.decomposition.TruncatedSVD` to reduce the dimensionality of the obtained embeddings to 2 and plot the selected words in 2D space.\n",
    "\n",
    "*Hint*:\n",
    "- Obtain the embeddings into a numpy array by `model.emb_v.cpu().data.numpy()`\n",
    "- The word2id dictionary is in `model.word2id`\n",
    "- If you are trying to load from a saved embedding file, you can use the APIs from `gensim`.\n",
    "  - For exmaple, `model = gensim.models.KeyedVectors.load_word2vec_format('path/to/file')`\n",
    "  - Check out the documentation for more details: https://radimrehurek.com/gensim/models/keyedvectors.html"
   ]
  },
  {
   "cell_type": "code",
   "execution_count": null,
   "metadata": {},
   "outputs": [],
   "source": [
    "# Because the gensim uses numpy version is conflict with the numpy version my torch needed,\n",
    "# so I use another notebook plot.py to plot the embeddings."
   ]
  }
 ],
 "metadata": {
  "kernelspec": {
   "display_name": "DL312",
   "language": "python",
   "name": "python3"
  },
  "language_info": {
   "codemirror_mode": {
    "name": "ipython",
    "version": 3
   },
   "file_extension": ".py",
   "mimetype": "text/x-python",
   "name": "python",
   "nbconvert_exporter": "python",
   "pygments_lexer": "ipython3",
   "version": "3.12.7"
  }
 },
 "nbformat": 4,
 "nbformat_minor": 2
}
