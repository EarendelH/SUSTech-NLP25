{
 "cells": [
  {
   "cell_type": "markdown",
   "metadata": {},
   "source": [
    "## CS310 Natural Language Processing\n",
    "## Assignment 2. Word2vec Implementation \n",
    "\n",
    "**Total points**: 50\n",
    "\n",
    "Train a word2vec model using the **skip-gram** architecture and **negative sampling**.\n",
    "\n",
    "You should roughtly follow the structure of the notebook. Add additional cells if you feel needed. \n",
    "\n",
    "You can (and you should) re-use the code from *Lab 4 (part 2): Data preparation for implementing word2vec*. \n",
    "\n",
    "Make sure your code is readable and well-structured."
   ]
  },
  {
   "cell_type": "markdown",
   "metadata": {},
   "source": [
    "### 0. Import Necessary Libraries"
   ]
  },
  {
   "cell_type": "code",
   "execution_count": 26,
   "metadata": {},
   "outputs": [],
   "source": [
    "from typing import List\n",
    "from utils import CorpusReader\n",
    "import torch\n",
    "import torch.nn as nn\n",
    "import torch.nn.functional as F\n",
    "import numpy as np\n",
    "import matplotlib.pyplot as plt\n",
    "from sklearn.decomposition import TruncatedSVD\n",
    "from tqdm import tqdm\n",
    "import numpy as np\n",
    "from sklearn.decomposition import TruncatedSVD\n",
    "import matplotlib.pyplot as plt"
   ]
  },
  {
   "cell_type": "markdown",
   "metadata": {},
   "source": [
    "## 1. Data Processing\n",
    "\n",
    "The corpus data is in `lunyu_20chapters.txt`. Use the `CorpusReader` class in `utils.py` to help you."
   ]
  },
  {
   "cell_type": "code",
   "execution_count": 27,
   "metadata": {},
   "outputs": [
    {
     "name": "stdout",
     "output_type": "stream",
     "text": [
      "Total vocabulary: 1352\n"
     ]
    }
   ],
   "source": [
    "# Read raw data in lunyu_20chapters.txt\n",
    "\n",
    "### YOUR CODE HERE ###\n",
    "corpus = CorpusReader(inputFileName=\"lunyu_20chapters.txt\", min_count=1)\n",
    "### END YOUR CODE ###"
   ]
  },
  {
   "cell_type": "code",
   "execution_count": 28,
   "metadata": {},
   "outputs": [],
   "source": [
    "# Re-use the code from lab with necessary modifications\n",
    "\n",
    "def generate_data(words: List[str], window_size: int, k: int, corpus: CorpusReader):\n",
    "    \"\"\" Generate the training data for word2vec skip-gram model\n",
    "    Args:\n",
    "        text: the input text\n",
    "        window_size: the size of the context window\n",
    "        k: the number of negative samples\n",
    "        corpus: the corpus object, providing utilities such as word2id, getNegatives, etc.\n",
    "    \"\"\"\n",
    "    ### YOUR CODE HERE ###\n",
    "    word_ids = []\n",
    "    for word in words:\n",
    "        word_ids.append(corpus.word2id[word])\n",
    "\n",
    "    for i in range(len(word_ids)):\n",
    "        center_word = word_ids[i]\n",
    "        context_words = word_ids[max(0, i - window_size):i] + word_ids[i + 1:i + window_size + 1]\n",
    "        for context_word in context_words:\n",
    "            yield center_word, context_word, corpus.getNegatives(center_word, k)\n",
    "    ### END YOUR CODE ###\n",
    "\n",
    "def batchify(data: List, batch_size: int):\n",
    "    \"\"\" Group a stream into batches and yield them as torch tensors.\n",
    "    Args:\n",
    "        data: a list of tuples\n",
    "        batch_size: the batch size \n",
    "    Yields:\n",
    "        a tuple of three torch tensors: center, outside, negative\n",
    "    \"\"\"\n",
    "    assert batch_size < len(data) # data should be long enough\n",
    "    for i in range(0, len(data), batch_size):\n",
    "        batch = data[i:i + batch_size]\n",
    "        if i > len(data) - batch_size: # if the last batch is smaller than batch_size, pad it with the first few data\n",
    "            batch = batch + data[:i + batch_size - len(data)]\n",
    "        \n",
    "        ### YOUR CODE HERE ###\n",
    "        centers = []\n",
    "        outsides = []\n",
    "        negatives = []\n",
    "        for center, outside, negative in batch:\n",
    "            centers.append(center)\n",
    "            outsides.append(outside)\n",
    "            negatives.append(negative)\n",
    "        centers = torch.tensor(centers)\n",
    "        outsides = torch.tensor(outsides)\n",
    "        negatives = torch.tensor(negatives)\n",
    "\n",
    "        yield centers, outsides, negatives\n",
    "        ### END YOUR CODE ###"
   ]
  },
  {
   "cell_type": "markdown",
   "metadata": {},
   "source": [
    "## 2. Define the Model"
   ]
  },
  {
   "cell_type": "code",
   "execution_count": 29,
   "metadata": {},
   "outputs": [],
   "source": [
    "class SkipGram(nn.Module):\n",
    "    def __init__(self, vocab_size, emb_size):\n",
    "        super(SkipGram, self).__init__()\n",
    "        self.vocab_size = vocab_size\n",
    "        self.emb_size = emb_size\n",
    "        self.emb_v = nn.Embedding(vocab_size, emb_size, sparse=True)\n",
    "        self.emb_u = nn.Embedding(vocab_size, emb_size, sparse=True)\n",
    "\n",
    "        initrange = 1.0 / self.emb_size # some experience passed down from generation to generation\n",
    "        nn.init.uniform_(self.emb_v.weight.data, -initrange, initrange) # same outcome as self.emb_v.weight.data.uniform_(-initrange, initrange)\n",
    "        nn.init.constant_(self.emb_u.weight.data, 0) # same outcome as self.emb_u.weight.data.zero_()\n",
    "\n",
    "    def forward(self, center, outside, negative):\n",
    "        \"\"\"\n",
    "        Args:\n",
    "            center: the center word indices (B, )\n",
    "            outside: the outside word indices (B, )\n",
    "            negative: the negative word indices (B, k)\n",
    "        \"\"\"\n",
    "        v_c = self.emb_v(center)\n",
    "        u_o = self.emb_u(outside)\n",
    "        u_n = self.emb_u(negative)\n",
    "        \n",
    "        ### YOUR CODE HERE ###\n",
    "        loss = None\n",
    "        pos_score = torch.sum(v_c * u_o, dim=1)\n",
    "        pos_score_clamped = torch.clamp(pos_score, min=-100, max=100)\n",
    "        pos_loss = -F.logsigmoid(pos_score_clamped)\n",
    "        \n",
    "        neg_score = torch.sum(v_c.unsqueeze(1) * u_n, dim=2)\n",
    "        neg_score_clamped = torch.clamp(neg_score, min=-100, max=100)\n",
    "        neg_loss = -F.logsigmoid(-neg_score_clamped)\n",
    "        neg_loss = torch.sum(neg_loss, dim=1)\n",
    "        \n",
    "        loss = pos_loss + neg_loss\n",
    "        # Hint: torch.clamp the input to F.logsigmoid to avoid numerical underflow/overflow\n",
    "        ### END YOUR CODE ###\n",
    "        \n",
    "\n",
    "        return loss\n",
    "    \n",
    "    def save_embedding(self, id2word, file_name):\n",
    "        embedding = self.emb_v.weight.cpu().data.numpy()\n",
    "        with open(file_name, 'w') as f:\n",
    "            f.write('%d %d\\n' % (len(id2word), self.emb_size))\n",
    "            for wid, w in id2word.items():\n",
    "                e = ' '.join(map(lambda x: str(x), embedding[wid]))\n",
    "                f.write('%s %s\\n' % (w, e))"
   ]
  },
  {
   "cell_type": "code",
   "execution_count": 30,
   "metadata": {},
   "outputs": [],
   "source": [
    "# corpus = CorpusReader('lunyu_20chapters.txt', 1)\n",
    "vocab_size = corpus.vocab_size"
   ]
  },
  {
   "cell_type": "markdown",
   "metadata": {},
   "source": [
    "## 3. Train and Evaluate"
   ]
  },
  {
   "cell_type": "code",
   "execution_count": 31,
   "metadata": {},
   "outputs": [],
   "source": [
    "def train(model, dataloader, optimizer, scheduler, epochs):\n",
    "    # Write your own code for this train function\n",
    "    # You don't need exactly the same arguments\n",
    "\n",
    "    ### YOUR CODE HERE ###\n",
    "    # 设置模型为训练模式\n",
    "    \n",
    "    model.train()\n",
    "    device = \"cpu\" if not torch.cuda.is_available() else \"cuda\"\n",
    "    epoch_loss = np.zeros(epochs)\n",
    "    total_steps = 0\n",
    "    for epoch in tqdm(range(epochs)):\n",
    "        epoch_loss[epoch] = 0\n",
    "        epoch_loss_temp = []\n",
    "        for i, (center_word, context_word, negative_words) in enumerate(dataloader):\n",
    "            # 将数据移至对应设备\n",
    "            center_word = center_word.to(device)\n",
    "            context_word = context_word.to(device)\n",
    "            negative_words = negative_words.to(device)\n",
    "            \n",
    "            # 计算损失\n",
    "            loss = model(center_word, context_word, negative_words).mean()\n",
    "            # print(f\"loss ,{loss}\")\n",
    "            epoch_loss_temp.append(loss.item())\n",
    "            # 梯度清零\n",
    "            optimizer.zero_grad()\n",
    "            # 反向传播\n",
    "            loss.backward()\n",
    "            # 参数更新\n",
    "            optimizer.step()\n",
    "            # 学习率调整\n",
    "            scheduler.step()\n",
    "            total_steps += 1\n",
    "            \n",
    "            # # 每5步打印一次训练信息\n",
    "            # if (i+1) % 5 == 0:\n",
    "            #     print(f\"Epoch {epoch+1}, Step {i+1}, Loss: {loss.item():.4f}\")\n",
    "        epoch_loss[epoch] = np.mean(epoch_loss_temp)\n",
    "        if (epoch+1) % 10 == 0:\n",
    "            print(f\"[Epoch {epoch+1}, Loss: {epoch_loss[epoch]:.4f}]\")\n",
    "    return epoch_loss\n",
    "\n",
    "    ### END YOUR CODE ###"
   ]
  },
  {
   "cell_type": "code",
   "execution_count": 32,
   "metadata": {},
   "outputs": [],
   "source": [
    "\n",
    "from torch.utils.data import DataLoader\n",
    "# Suggested hyperparameters\n",
    "initial_lr = 0.025\n",
    "batch_size = 16\n",
    "emb_size = 50\n",
    "window_size = 5\n",
    "k = 10 # the number of negative samples, change with your own choice for better embedding performance\n",
    "min_count = 1 # because our data is small. If min_count > 1, you should filter out those unknown words from the data in train() function\n",
    "# optimizer = torch.optim.Adam(model.parameters(), lr=initial_lr) # or torch.optim.SparseAdam()\n",
    "# scheduler = torch.optim.lr_scheduler.CosineAnnealingLR() # or torch.optim.lr_scheduler.StepLR()\n",
    "\n",
    "\n",
    "# text = corpus.words()\n",
    "with open(\"lunyu_20chapters.txt\", \"r\", encoding=\"utf-8\") as f:\n",
    "    text = f.read()\n",
    "text=text.replace(\"\\n\", \"\")\n",
    "text=text.replace(\" \", \"\")\n",
    "words = list(text)\n",
    "### Hints: ###\n",
    "# - If you have cuda-supported GPUs, you can run the training faster by\n",
    "#   `device = torch.device(\"cuda\" if self.use_cuda else \"cpu\")`\n",
    "#   `model.cuda()`\n",
    "#   You also need to move all tensor data to the same device\n",
    "# - If you find Inf or NaN in the loss, you can try to clip the gradient usning `torch.nn.utils.clip_grad_norm_`\n",
    "# - Remember to save the embeddings when training is done"
   ]
  },
  {
   "cell_type": "code",
   "execution_count": 33,
   "metadata": {},
   "outputs": [
    {
     "name": "stdout",
     "output_type": "stream",
     "text": [
      "Start training with embedding size: 50\n"
     ]
    },
    {
     "name": "stderr",
     "output_type": "stream",
     "text": [
      " 50%|█████     | 10/20 [00:35<00:35,  3.58s/it]"
     ]
    },
    {
     "name": "stdout",
     "output_type": "stream",
     "text": [
      "[Epoch 10, Loss: 0.9552]\n"
     ]
    },
    {
     "name": "stderr",
     "output_type": "stream",
     "text": [
      "100%|██████████| 20/20 [01:09<00:00,  3.46s/it]"
     ]
    },
    {
     "name": "stdout",
     "output_type": "stream",
     "text": [
      "[Epoch 20, Loss: 0.9283]\n"
     ]
    },
    {
     "name": "stderr",
     "output_type": "stream",
     "text": [
      "\n"
     ]
    }
   ],
   "source": [
    "model1 = SkipGram(vocab_size, emb_size=50)\n",
    "data= list(generate_data(words, window_size=1, k=2, corpus=corpus))\n",
    "train_data = list(batchify(data, batch_size=batch_size))\n",
    "dataloader = DataLoader(train_data, batch_size=batch_size, shuffle=True)\n",
    "optimizer = torch.optim.SparseAdam(model1.parameters(), lr=initial_lr)\n",
    "scheduler = torch.optim.lr_scheduler.CosineAnnealingLR(optimizer, T_max=10)\n",
    "# Train the model\n",
    "print(f\"Start training with embedding size: {50}\")\n",
    "loss_emb50_k2_win1= train(model1, train_data, optimizer,scheduler,epochs=20)"
   ]
  },
  {
   "cell_type": "code",
   "execution_count": 34,
   "metadata": {},
   "outputs": [
    {
     "name": "stderr",
     "output_type": "stream",
     "text": [
      " 50%|█████     | 10/20 [00:43<00:43,  4.39s/it]"
     ]
    },
    {
     "name": "stdout",
     "output_type": "stream",
     "text": [
      "[Epoch 10, Loss: 1.5528]\n"
     ]
    },
    {
     "name": "stderr",
     "output_type": "stream",
     "text": [
      "100%|██████████| 20/20 [01:35<00:00,  4.76s/it]"
     ]
    },
    {
     "name": "stdout",
     "output_type": "stream",
     "text": [
      "[Epoch 20, Loss: 1.5012]\n"
     ]
    },
    {
     "name": "stderr",
     "output_type": "stream",
     "text": [
      "\n"
     ]
    }
   ],
   "source": [
    "model2 = SkipGram(vocab_size, emb_size=50)\n",
    "data= list(generate_data(words, window_size=1, k=5, corpus=corpus))\n",
    "train_data = list(batchify(data, batch_size=batch_size))\n",
    "dataloader = DataLoader(train_data, batch_size=batch_size, shuffle=True)\n",
    "optimizer = torch.optim.SparseAdam(model2.parameters(), lr=initial_lr)\n",
    "scheduler = torch.optim.lr_scheduler.CosineAnnealingLR(optimizer, T_max=10)\n",
    "# Train the model\n",
    "loss_emb50_k5_win_1= train(model2, train_data, optimizer,scheduler,epochs=20)"
   ]
  },
  {
   "cell_type": "code",
   "execution_count": 35,
   "metadata": {},
   "outputs": [
    {
     "name": "stderr",
     "output_type": "stream",
     "text": [
      "  5%|▌         | 1/20 [05:39<1:47:38, 339.91s/it]\n"
     ]
    },
    {
     "ename": "KeyboardInterrupt",
     "evalue": "",
     "output_type": "error",
     "traceback": [
      "\u001b[0;31m---------------------------------------------------------------------------\u001b[0m",
      "\u001b[0;31mKeyboardInterrupt\u001b[0m                         Traceback (most recent call last)",
      "Cell \u001b[0;32mIn[35], line 8\u001b[0m\n\u001b[1;32m      6\u001b[0m scheduler \u001b[38;5;241m=\u001b[39m torch\u001b[38;5;241m.\u001b[39moptim\u001b[38;5;241m.\u001b[39mlr_scheduler\u001b[38;5;241m.\u001b[39mCosineAnnealingLR(optimizer, T_max\u001b[38;5;241m=\u001b[39m\u001b[38;5;241m10\u001b[39m)\n\u001b[1;32m      7\u001b[0m \u001b[38;5;66;03m# Train the model\u001b[39;00m\n\u001b[0;32m----> 8\u001b[0m loss_emb50_k2_win_3\u001b[38;5;241m=\u001b[39m \u001b[43mtrain\u001b[49m\u001b[43m(\u001b[49m\u001b[43mmodel2\u001b[49m\u001b[43m,\u001b[49m\u001b[43m \u001b[49m\u001b[43mtrain_data\u001b[49m\u001b[43m,\u001b[49m\u001b[43m \u001b[49m\u001b[43moptimizer\u001b[49m\u001b[43m,\u001b[49m\u001b[43mscheduler\u001b[49m\u001b[43m,\u001b[49m\u001b[43mepochs\u001b[49m\u001b[38;5;241;43m=\u001b[39;49m\u001b[38;5;241;43m20\u001b[39;49m\u001b[43m)\u001b[49m\n",
      "Cell \u001b[0;32mIn[31], line 28\u001b[0m, in \u001b[0;36mtrain\u001b[0;34m(model, dataloader, optimizer, scheduler, epochs)\u001b[0m\n\u001b[1;32m     26\u001b[0m optimizer\u001b[38;5;241m.\u001b[39mzero_grad()\n\u001b[1;32m     27\u001b[0m \u001b[38;5;66;03m# 反向传播\u001b[39;00m\n\u001b[0;32m---> 28\u001b[0m \u001b[43mloss\u001b[49m\u001b[38;5;241;43m.\u001b[39;49m\u001b[43mbackward\u001b[49m\u001b[43m(\u001b[49m\u001b[43m)\u001b[49m\n\u001b[1;32m     29\u001b[0m \u001b[38;5;66;03m# 参数更新\u001b[39;00m\n\u001b[1;32m     30\u001b[0m optimizer\u001b[38;5;241m.\u001b[39mstep()\n",
      "File \u001b[0;32m/opt/miniconda3/envs/DL312/lib/python3.12/site-packages/torch/_tensor.py:613\u001b[0m, in \u001b[0;36mTensor.backward\u001b[0;34m(self, gradient, retain_graph, create_graph, inputs)\u001b[0m\n\u001b[1;32m    603\u001b[0m \u001b[38;5;28;01mif\u001b[39;00m has_torch_function_unary(\u001b[38;5;28mself\u001b[39m):\n\u001b[1;32m    604\u001b[0m     \u001b[38;5;28;01mreturn\u001b[39;00m handle_torch_function(\n\u001b[1;32m    605\u001b[0m         Tensor\u001b[38;5;241m.\u001b[39mbackward,\n\u001b[1;32m    606\u001b[0m         (\u001b[38;5;28mself\u001b[39m,),\n\u001b[0;32m   (...)\u001b[0m\n\u001b[1;32m    611\u001b[0m         inputs\u001b[38;5;241m=\u001b[39minputs,\n\u001b[1;32m    612\u001b[0m     )\n\u001b[0;32m--> 613\u001b[0m \u001b[43mtorch\u001b[49m\u001b[38;5;241;43m.\u001b[39;49m\u001b[43mautograd\u001b[49m\u001b[38;5;241;43m.\u001b[39;49m\u001b[43mbackward\u001b[49m\u001b[43m(\u001b[49m\n\u001b[1;32m    614\u001b[0m \u001b[43m    \u001b[49m\u001b[38;5;28;43mself\u001b[39;49m\u001b[43m,\u001b[49m\u001b[43m \u001b[49m\u001b[43mgradient\u001b[49m\u001b[43m,\u001b[49m\u001b[43m \u001b[49m\u001b[43mretain_graph\u001b[49m\u001b[43m,\u001b[49m\u001b[43m \u001b[49m\u001b[43mcreate_graph\u001b[49m\u001b[43m,\u001b[49m\u001b[43m \u001b[49m\u001b[43minputs\u001b[49m\u001b[38;5;241;43m=\u001b[39;49m\u001b[43minputs\u001b[49m\n\u001b[1;32m    615\u001b[0m \u001b[43m\u001b[49m\u001b[43m)\u001b[49m\n",
      "File \u001b[0;32m/opt/miniconda3/envs/DL312/lib/python3.12/site-packages/torch/autograd/__init__.py:347\u001b[0m, in \u001b[0;36mbackward\u001b[0;34m(tensors, grad_tensors, retain_graph, create_graph, grad_variables, inputs)\u001b[0m\n\u001b[1;32m    342\u001b[0m     retain_graph \u001b[38;5;241m=\u001b[39m create_graph\n\u001b[1;32m    344\u001b[0m \u001b[38;5;66;03m# The reason we repeat the same comment below is that\u001b[39;00m\n\u001b[1;32m    345\u001b[0m \u001b[38;5;66;03m# some Python versions print out the first line of a multi-line function\u001b[39;00m\n\u001b[1;32m    346\u001b[0m \u001b[38;5;66;03m# calls in the traceback and some print out the last line\u001b[39;00m\n\u001b[0;32m--> 347\u001b[0m \u001b[43m_engine_run_backward\u001b[49m\u001b[43m(\u001b[49m\n\u001b[1;32m    348\u001b[0m \u001b[43m    \u001b[49m\u001b[43mtensors\u001b[49m\u001b[43m,\u001b[49m\n\u001b[1;32m    349\u001b[0m \u001b[43m    \u001b[49m\u001b[43mgrad_tensors_\u001b[49m\u001b[43m,\u001b[49m\n\u001b[1;32m    350\u001b[0m \u001b[43m    \u001b[49m\u001b[43mretain_graph\u001b[49m\u001b[43m,\u001b[49m\n\u001b[1;32m    351\u001b[0m \u001b[43m    \u001b[49m\u001b[43mcreate_graph\u001b[49m\u001b[43m,\u001b[49m\n\u001b[1;32m    352\u001b[0m \u001b[43m    \u001b[49m\u001b[43minputs\u001b[49m\u001b[43m,\u001b[49m\n\u001b[1;32m    353\u001b[0m \u001b[43m    \u001b[49m\u001b[43mallow_unreachable\u001b[49m\u001b[38;5;241;43m=\u001b[39;49m\u001b[38;5;28;43;01mTrue\u001b[39;49;00m\u001b[43m,\u001b[49m\n\u001b[1;32m    354\u001b[0m \u001b[43m    \u001b[49m\u001b[43maccumulate_grad\u001b[49m\u001b[38;5;241;43m=\u001b[39;49m\u001b[38;5;28;43;01mTrue\u001b[39;49;00m\u001b[43m,\u001b[49m\n\u001b[1;32m    355\u001b[0m \u001b[43m\u001b[49m\u001b[43m)\u001b[49m\n",
      "File \u001b[0;32m/opt/miniconda3/envs/DL312/lib/python3.12/site-packages/torch/autograd/graph.py:825\u001b[0m, in \u001b[0;36m_engine_run_backward\u001b[0;34m(t_outputs, *args, **kwargs)\u001b[0m\n\u001b[1;32m    823\u001b[0m     unregister_hooks \u001b[38;5;241m=\u001b[39m _register_logging_hooks_on_whole_graph(t_outputs)\n\u001b[1;32m    824\u001b[0m \u001b[38;5;28;01mtry\u001b[39;00m:\n\u001b[0;32m--> 825\u001b[0m     \u001b[38;5;28;01mreturn\u001b[39;00m \u001b[43mVariable\u001b[49m\u001b[38;5;241;43m.\u001b[39;49m\u001b[43m_execution_engine\u001b[49m\u001b[38;5;241;43m.\u001b[39;49m\u001b[43mrun_backward\u001b[49m\u001b[43m(\u001b[49m\u001b[43m  \u001b[49m\u001b[38;5;66;43;03m# Calls into the C++ engine to run the backward pass\u001b[39;49;00m\n\u001b[1;32m    826\u001b[0m \u001b[43m        \u001b[49m\u001b[43mt_outputs\u001b[49m\u001b[43m,\u001b[49m\u001b[43m \u001b[49m\u001b[38;5;241;43m*\u001b[39;49m\u001b[43margs\u001b[49m\u001b[43m,\u001b[49m\u001b[43m \u001b[49m\u001b[38;5;241;43m*\u001b[39;49m\u001b[38;5;241;43m*\u001b[39;49m\u001b[43mkwargs\u001b[49m\n\u001b[1;32m    827\u001b[0m \u001b[43m    \u001b[49m\u001b[43m)\u001b[49m  \u001b[38;5;66;03m# Calls into the C++ engine to run the backward pass\u001b[39;00m\n\u001b[1;32m    828\u001b[0m \u001b[38;5;28;01mfinally\u001b[39;00m:\n\u001b[1;32m    829\u001b[0m     \u001b[38;5;28;01mif\u001b[39;00m attach_logging_hooks:\n",
      "\u001b[0;31mKeyboardInterrupt\u001b[0m: "
     ]
    }
   ],
   "source": [
    "model3 = SkipGram(vocab_size, emb_size=50)\n",
    "data= list(generate_data(words, window_size=3, k=2, corpus=corpus))\n",
    "train_data = list(batchify(data, batch_size=batch_size))\n",
    "dataloader = DataLoader(train_data, batch_size=batch_size, shuffle=True)\n",
    "optimizer = torch.optim.SparseAdam(model3.parameters(), lr=initial_lr)\n",
    "scheduler = torch.optim.lr_scheduler.CosineAnnealingLR(optimizer, T_max=10)\n",
    "# Train the model\n",
    "loss_emb50_k2_win_3= train(model2, train_data, optimizer,scheduler,epochs=20)"
   ]
  },
  {
   "cell_type": "code",
   "execution_count": null,
   "metadata": {},
   "outputs": [],
   "source": [
    "model4 = SkipGram(vocab_size, emb_size=50)\n",
    "data= list(generate_data(words, window_size=3, k=5, corpus=corpus))\n",
    "train_data = list(batchify(data, batch_size=batch_size))\n",
    "dataloader = DataLoader(train_data, batch_size=batch_size, shuffle=True)\n",
    "optimizer = torch.optim.SparseAdam(model4.parameters(), lr=initial_lr)\n",
    "scheduler = torch.optim.lr_scheduler.CosineAnnealingLR(optimizer, T_max=10)\n",
    "# Train the model\n",
    "loss_emb50_k5_win_3= train(model2, train_data, optimizer,scheduler,epochs=20)"
   ]
  },
  {
   "cell_type": "code",
   "execution_count": null,
   "metadata": {},
   "outputs": [],
   "source": [
    "model5 = SkipGram(vocab_size, emb_size=100)\n",
    "data= list(generate_data(words, window_size=1, k=2, corpus=corpus))\n",
    "train_data = list(batchify(data, batch_size=batch_size))\n",
    "dataloader = DataLoader(train_data, batch_size=batch_size, shuffle=True)\n",
    "optimizer = torch.optim.SparseAdam(model5.parameters(), lr=initial_lr)\n",
    "scheduler = torch.optim.lr_scheduler.CosineAnnealingLR(optimizer, T_max=10)\n",
    "# Train the model\n",
    "loss_emb100_k2_win_1= train(model2, train_data, optimizer,scheduler,epochs=20)"
   ]
  },
  {
   "cell_type": "code",
   "execution_count": null,
   "metadata": {},
   "outputs": [],
   "source": [
    "model6 = SkipGram(vocab_size, emb_size=100)\n",
    "data= list(generate_data(words, window_size=1, k=5, corpus=corpus))\n",
    "train_data = list(batchify(data, batch_size=batch_size))\n",
    "dataloader = DataLoader(train_data, batch_size=batch_size, shuffle=True)\n",
    "optimizer = torch.optim.SparseAdam(model6.parameters(), lr=initial_lr)\n",
    "scheduler = torch.optim.lr_scheduler.CosineAnnealingLR(optimizer, T_max=10)\n",
    "# Train the model\n",
    "loss_emb100_k5_win_1= train(model2, train_data, optimizer,scheduler,epochs=20)"
   ]
  },
  {
   "cell_type": "code",
   "execution_count": null,
   "metadata": {},
   "outputs": [],
   "source": [
    "model7 = SkipGram(vocab_size, emb_size=100)\n",
    "data= list(generate_data(words, window_size=3, k=2, corpus=corpus))\n",
    "train_data = list(batchify(data, batch_size=batch_size))\n",
    "dataloader = DataLoader(train_data, batch_size=batch_size, shuffle=True)\n",
    "optimizer = torch.optim.SparseAdam(model7.parameters(), lr=initial_lr)\n",
    "scheduler = torch.optim.lr_scheduler.CosineAnnealingLR(optimizer, T_max=10)\n",
    "# Train the model\n",
    "loss_emb50_k2_win_3= train(model2, train_data, optimizer,scheduler,epochs=20)"
   ]
  },
  {
   "cell_type": "code",
   "execution_count": null,
   "metadata": {},
   "outputs": [],
   "source": [
    "model8 = SkipGram(vocab_size, emb_size=100)\n",
    "data= list(generate_data(words, window_size=3, k=5, corpus=corpus))\n",
    "train_data = list(batchify(data, batch_size=batch_size))\n",
    "dataloader = DataLoader(train_data, batch_size=batch_size, shuffle=True)\n",
    "optimizer = torch.optim.SparseAdam(model8.parameters(), lr=initial_lr)\n",
    "scheduler = torch.optim.lr_scheduler.CosineAnnealingLR(optimizer, T_max=10)\n",
    "# Train the model\n",
    "loss_emb100_k5_win_3= train(model2, train_data, optimizer,scheduler,epochs=20)"
   ]
  },
  {
   "cell_type": "code",
   "execution_count": null,
   "metadata": {},
   "outputs": [
    {
     "data": {
      "image/png": "[encoded data removed]",
      "text/plain": [
       "<Figure size 1000x600 with 1 Axes>"
      ]
     },
     "metadata": {},
     "output_type": "display_data"
    }
   ],
   "source": [
    "import matplotlib.pyplot as plt\n",
    "\n",
    "# 创建两个列表用于存储x和y轴数据\n",
    "epochs = list(range(1, 21))  # 1到20的epoch数\n",
    "\n",
    "\n",
    "# 绘制折线图\n",
    "plt.figure(figsize=(10, 6))\n",
    "plt.plot(epochs, loss_emb50_k2_win1, marker='o', label='Emb_size 50, k=2, win_size=1')\n",
    "plt.plot(epochs, loss_emb50_k2_win3, marker='o', label='Emb_size 50, k=2, win_size=3')\n",
    "plt.plot(epochs, loss_emb50_k5_win1, marker='o', label='Emb_size 50, k=5, win_size=1')\n",
    "plt.plot(epochs, loss_emb50_k5_win3, marker='o', label='Emb_size 50, k=5, win_size=3')\n",
    "\n",
    "plt.plot(epochs, loss_emb100_k2_win1, marker='*', label='Emb_size 100, k=2, win_size=1')\n",
    "plt.plot(epochs, loss_emb100_k2_win3, marker='*', label='Emb_size 100, k=2, win_size=3')\n",
    "plt.plot(epochs, loss_emb100_k5_win1, marker='*', label='Emb_size 100, k=5, win_size=1')\n",
    "plt.plot(epochs, loss_emb100_k5_win3, marker='*', label='Emb_size 100, k=5, win_size=3') \n",
    "\n",
    "# 设置图表标题和轴标签\n",
    "plt.title('Loss comparison for Emb size 50 and Emb_size 100')\n",
    "plt.xlabel('Epoch')\n",
    "plt.ylabel('Loss')\n",
    "plt.legend()\n",
    "plt.grid(True)\n",
    "plt.show()\n"
   ]
  },
  {
   "cell_type": "code",
   "execution_count": null,
   "metadata": {},
   "outputs": [],
   "source": []
  },
  {
   "cell_type": "markdown",
   "metadata": {},
   "source": [
    "## 4. Save the Embeddings\n",
    "\n",
    "\n",
    "Save the embeddings into a `gensim` compatible format."
   ]
  },
  {
   "cell_type": "code",
   "execution_count": 20,
   "metadata": {},
   "outputs": [],
   "source": [
    "output_file = 'embeddings.txt'\n",
    "weights = model1.emb_v.weight.cpu().data.numpy()\n",
    "with open(output_file, \"w\") as f:\n",
    "    f.write(f\"{vocab_size} {emb_size}\\n\")  # First line: vocab size and vector dimension\n",
    "    for idx, vector in enumerate(weights):\n",
    "        vector_str = \" \".join(map(str, vector))\n",
    "        f.write(f\"{corpus.id2word[idx]} {vector_str}\\n\") "
   ]
  },
  {
   "cell_type": "markdown",
   "metadata": {},
   "source": [
    "## 5. Plot and Compare Embeddings\n",
    "\n",
    "Use `sklearn.decomposition.TruncatedSVD` to reduce the dimensionality of the obtained embeddings to 2 and plot the selected words in 2D space.\n",
    "\n",
    "*Hint*:\n",
    "- Obtain the embeddings into a numpy array by `model.emb_v.cpu().data.numpy()`\n",
    "- The word2id dictionary is in `model.word2id`\n",
    "- If you are trying to load from a saved embedding file, you can use the APIs from `gensim`.\n",
    "  - For exmaple, `model = gensim.models.KeyedVectors.load_word2vec_format('path/to/file')`\n",
    "  - Check out the documentation for more details: https://radimrehurek.com/gensim/models/keyedvectors.html"
   ]
  },
  {
   "cell_type": "code",
   "execution_count": 21,
   "metadata": {},
   "outputs": [
    {
     "name": "stdout",
     "output_type": "stream",
     "text": [
      "{'，': 0, '子': 1, '。': 2, '：': 3, '曰': 4, '之': 5, '不': 6, '也': 7, '而': 8, '？': 9, '其': 10, '人': 11, '者': 12, '以': 13, '有': 14, '于': 15, '矣': 16, '为': 17, '君': 18, '乎': 19, '可': 20, '如': 21, '与': 22, '；': 23, '言': 24, '无': 25, '则': 26, '！': 27, '问': 28, '知': 29, '何': 30, '吾': 31, '仁': 32, '夫': 33, '、': 34, '道': 35, '焉': 36, '行': 37, '谓': 38, '必': 39, '礼': 40, '孔': 41, '斯': 42, '三': 43, '能': 44, '见': 45, '学': 46, '事': 47, '是': 48, '哉': 49, '闻': 50, '未': 51, '公': 52, '好': 53, '我': 54, '路': 55, '在': 56, '已': 57, '得': 58, '所': 59, '民': 60, '小': 61, '天': 62, '乐': 63, '邦': 64, '亦': 65, '使': 66, '大': 67, '下': 68, '贡': 69, '欲': 70, '诸': 71, '从': 72, '文': 73, '政': 74, '食': 75, '善': 76, '后': 77, '德': 78, '求': 79, '对': 80, '恶': 81, '信': 82, '死': 83, '然': 84, '《': 85, '》': 86, '由': 87, '仲': 88, '非': 89, '出': 90, '过': 91, '一': 92, '虽': 93, '足': 94, '居': 95, '尔': 96, '夏': 97, '父': 98, '及': 99, '己': 100, '予': 101, '色': 102, '友': 103, '成': 104, '远': 105, '上': 106, '立': 107, '今': 108, '张': 109, '中': 110, '季': 111, '臣': 112, '贤': 113, '思': 114, '齐': 115, '义': 116, '正': 117, '命': 118, '曾': 119, '伯': 120, '门': 121, '敢': 122, '犹': 123, '生': 124, '日': 125, '敬': 126, '难': 127, '直': 128, '丧': 129, '说': 130, '自': 131, '用': 132, '周': 133, '颜': 134, '年': 135, '告': 136, '十': 137, '怨': 138, '达': 139, '孝': 140, '弟': 141, '至': 142, '先': 143, '师': 144, '女': 145, '多': 146, '忠': 147, '四': 148, '疾': 149, '服': 150, '氏': 151, '冉': 152, '将': 153, '士': 154, '丘': 155, '身': 156, '入': 157, '志': 158, '耻': 159, '失': 160, '安': 161, '富': 162, '赐': 163, '患': 164, '百': 165, '回': 166, '宰': 167, '朝': 168, '莫': 169, '若': 170, '云': 171, '孙': 172, '或': 173, '勇': 174, '孰': 175, '叔': 176, '渊': 177, '方': 178, '乱': 179, '五': 180, '唯': 181, '忧': 182, '马': 183, '皆': 184, '故': 185, '世': 186, '语': 187, '又': 188, '衣': 189, '改': 190, '美': 191, '诗': 192, '违': 193, '祭': 194, '武': 195, '游': 196, '举': 197, '既': 198, '二': 199, '执': 200, '进': 201, '称': 202, '众': 203, '力': 204, '勿': 205, '恭': 206, '退': 207, '去': 208, '管': 209, '请': 210, '易': 211, '且': 212, '哀': 213, '益': 214, '取': 215, '古': 216, '鲁': 217, '党': 218, '适': 219, '惠': 220, '南': 221, '陈': 222, '谁': 223, '时': 224, '作': 225, '终': 226, '归': 227, '异': 228, '观': 229, '近': 230, '往': 231, '孟': 232, '樊': 233, '寡': 234, '奚': 235, '兄': 236, '家': 237, '夷': 238, '亡': 239, '长': 240, '利': 241, '躬': 242, '明': 243, '乡': 244, '来': 245, '令': 246, '国': 247, '母': 248, '固': 249, '惑': 250, '六': 251, '迟': 252, '劳': 253, '相': 254, '辟': 255, '尝': 256, '久': 257, '苟': 258, '次': 259, '佞': 260, '室': 261, '月': 262, '修': 263, '卫': 264, '畏': 265, '朋': 266, '谋': 267, '乘': 268, '爱': 269, '亲': 270, '致': 271, '复': 272, '宗': 273, '敏': 274, '贫': 275, '蔽': 276, '愚': 277, '泰': 278, '山': 279, '同': 280, '反': 281, '怀': 282, '老': 283, '厌': 284, '隐': 285, '兴': 286, '召': 287, '杀': 288, '和': 289, '贵': 290, '骄': 291, '视': 292, '康': 293, '车': 294, '庙': 295, '名': 296, '加': 297, '位': 298, '内': 299, '容': 300, '废': 301, '仕': 302, '听': 303, '狂': 304, '简': 305, '少': 306, '毋': 307, '质': 308, '圣': 309, '舜': 310, '病': 311, '桓': 312, '岂': 313, '止': 314, '受': 315, '慎': 316, '让': 317, '王': 318, '始': 319, '譬': 320, '比': 321, '枉': 322, '教': 323, '殷': 324, '升': 325, '神': 326, '间': 327, '惧': 328, '赤': 329, '愿': 330, '裘': 331, '伐': 332, '弓': 333, '牛': 334, '费': 335, '变': 336, '博': 337, '司': 338, '荡': 339, '笃': 340, '才': 341, '危': 342, '冕': 343, '鲜': 344, '节': 345, '俭': 346, '没': 347, '辱': 348, '切': 349, '免': 350, '七': 351, '心': 352, '器': 353, '临': 354, '庄': 355, '施': 356, '损': 357, '宁': 358, '弗': 359, '贾': 360, '罪': 361, '太': 362, '尽': 363, '战': 364, '处': 365, '约': 366, '各': 367, '治': 368, '墙': 369, '臧': 370, '旧': 371, '辞': 372, '舍': 373, '闵': 374, '手': 375, '动': 376, '识': 377, '肉': 378, '饭': 379, '期': 380, '姓': 381, '气': 382, '谷': 383, '巍': 384, '拜': 385, '趋': 386, '末': 387, '怡': 388, '徒': 389, '尼': 390, '本': 391, '巧': 392, '千': 393, '余': 394, '主': 395, '厚': 396, '抑': 397, '温': 398, '因': 399, '刑': 400, '酒': 401, '诲': 402, '禄': 403, '阙': 404, '书': 405, '鬼': 406, '雍': 407, '堂': 408, '放': 409, '射': 410, '饮': 411, '笑': 412, '兮': 413, '征': 414, '谏': 415, '木': 416, '里': 417, '盖': 418, '几': 419, '喜': 420, '数': 421, '妻': 422, '宾': 423, '寝': 424, '刚': 425, '尹': 426, '弃': 427, '他': 428, '希': 429, '微': 430, '侍': 431, '华': 432, '九': 433, '骞': 434, '胜': 435, '尧': 436, '倦': 437, '甚': 438, '衰': 439, '歌': 440, '忘': 441, '恒': 442, '宿': 443, '厉': 444, '鄙': 445, '夺': 446, '任': 447, '守': 448, '禹': 449, '玉': 450, '阶': 451, '坐': 452, '鲤': 453, '贼': 454, '侯': 455, '景': 456, '草': 457, '矜': 458, '颛': 459, '臾': 460, '戒': 461, '犯': 462, '省': 463, '交': 464, '重': 465, '威': 466, '共': 467, '逾': 468, '御': 469, '葬': 470, '养': 471, '发': 472, '察': 473, '殆': 474, '攻': 475, '干': 476, '错': 477, '舞': 478, '庭': 479, '旅': 480, '揖': 481, '商': 482, '祷': 483, '羊': 484, '伤': 485, '官': 486, '宽': 487, '择': 488, '贱': 489, '疏': 490, '海': 491, '章': 492, '恐': 493, '弑': 494, '高': 495, '左': 496, '幸': 497, '粟': 498, '果': 499, '艺': 500, '偃': 501, '水': 502, '觚': 503, '欺': 504, '畔': 505, '军': 506, '雅': 507, '童': 508, '西': 509, '鸟': 510, '昔': 511, '弘': 512, '宫': 513, '绝': 514, '匡': 515, '前': 516, '沽': 517, '待': 518, '困': 519, '便': 520, '侃': 521, '訚': 522, '鱼': 523, '席': 524, '杖': 525, '东': 526, '风': 527, '恸': 528, '瑟': 529, '鼓': 530, '庶': 531, '崇': 532, '硁': 533, '偲': 534, '谅': 535, '报': 536, '穷': 537, '声': 538, '柳': 539, '群': 540, '毁': 541, '阳': 542, '逸': 543, '习': 544, '愠': 545, '谨': 546, '竭': 547, '饱': 548, '就': 549, '谄': 550, '耳': 551, '顺': 552, '新': 553, '罔': 554, '端': 555, '疑': 556, '尤': 557, '悔': 558, '惟': 559, '继': 560, '忍': 561, '彻': 562, '戚': 563, '争': 564, '素': 565, '每': 566, '定': 567, '社': 568, '摄': 569, '绎': 570, '韶': 571, '尚': 572, '参': 573, '贯': 574, '邻': 575, '屡': 576, '邑': 577, '望': 578, '申': 579, '产': 580, '平': 581, '蔡': 582, '崔': 583, '讼': 584, '面': 585, '乃': 586, '短': 587, '陋': 588, '野': 589, '史': 590, '逝': 591, '矢': 592, '述': 593, '窃': 594, '启': 595, '暴': 596, '虎': 597, '河': 598, '诺': 599, '叶': 600, '洁': 601, '巫': 602, '猛': 603, '履': 604, '貌': 605, '慢': 606, '功': 607, '虞': 608, '分': 609, '空': 610, '凤': 611, '瞽': 612, '忽': 613, '循': 614, '诈': 615, '夜': 616, '地': 617, '匹': 618, '狐': 619, '权': 620, '似': 621, '勃': 622, '鞠': 623, '降': 624, '授': 625, '亵': 626, '当': 627, '羔': 628, '冠': 629, '量': 630, '俟': 631, '椁': 632, '噫': 633, '稷': 634, '皙': 635, '哂': 636, '会': 637, '克': 638, '讱': 639, '独': 640, '润': 641, '肤': 642, '愬': 643, '兵': 644, '盗': 645, '虑': 646, '忿': 647, '稼': 648, '速': 649, '彼': 650, '优': 651, '寮': 652, '肆': 653, '击': 654, '磬': 655, '舆': 656, '郑': 657, '火': 658, '血': 659, '桀': 660, '溺': 661, '拒': 662, '尊': 663, '帝': 664, '务': 665, '传': 666, '惮': 667, '追': 668, '禽': 669, '磨': 670, '犬': 671, '别': 672, '馔': 673, '私': 674, '廋': 675, '害': 676, '劝': 677, '八': 678, '穆': 679, '林': 680, '奢': 681, '狄': 682, '目': 683, '宋': 684, '禘': 685, '指': 686, '媚': 687, '获': 688, '代': 689, '郁': 690, '关': 691, '雎': 692, '淫': 693, '松': 694, '柏': 695, '栗': 696, '遂': 697, '树': 698, '塞': 699, '两': 700, '坫': 701, '纯': 702, '颠': 703, '议': 704, '土': 705, '恕': 706, '喻': 707, '逮': 708, '讷': 709, '孤': 710, '口': 711, '雕': 712, '浮': 713, '束': 714, '客': 715, '愈': 716, '昼': 717, '枨': 718, '性': 719, '晏': 720, '清': 721, '再': 722, '乞': 723, '盍': 724, '轻': 725, '敝': 726, '迁': 727, '原': 728, '川': 729, '巷': 730, '儒': 731, '城': 732, '灭': 733, '祝': 734, '鮀': 735, '户': 736, '彬': 737, '徙': 738, '夭': 739, '愤': 740, '隅': 741, '侧': 742, '哭': 743, '藏': 744, '图': 745, '虚': 746, '盈': 747, '败': 748, '昭': 749, '吴': 750, '绞': 751, '兢': 752, '深': 753, '薄': 754, '鸣': 755, '豆': 756, '实': 757, '毅': 758, '吝': 759, '挚': 760, '洋': 761, '悾': 762, '唐': 763, '盛': 764, '妇': 765, '沟': 766, '纵': 767, '试': 768, '叩': 769, '裳': 770, '喟': 771, '叹': 772, '仰': 773, '弥': 774, '钻': 775, '坚': 776, '瞻': 777, '椟': 778, '篑': 779, '覆': 780, '惜': 781, '秀': 782, '法': 783, '帅': 784, '貉': 785, '诵': 786, '岁': 787, '恂': 788, '踧': 789, '踖': 790, '躩': 791, '右': 792, '翼': 793, '顾': 794, '屏': 795, '圭': 796, '蹜': 797, '愉': 798, '饰': 799, '紫': 800, '缁': 801, '玄': 802, '馁': 803, '割': 804, '市': 805, '瓜': 806, '馈': 807, '首': 808, '绅': 809, '狎': 810, '式': 811, '负': 812, '绥': 813, '白': 814, '货': 815, '亿': 816, '论': 817, '饥': 818, '点': 819, '春': 820, '浴': 821, '雩': 822, '承': 823, '浸': 824, '谮': 825, '驷': 826, '鞟': 827, '辨': 828, '诚': 829, '慝': 830, '选': 831, '汤': 832, '赦': 833, '罚': 834, '圃': 835, '情': 836, '合': 837, '斗': 838, '狷': 839, '备': 840, '即': 841, '讨': 842, '绰': 843, '要': 844, '谲': 845, '纠': 846, '到': 847, ',': 848, '灵': 849, '蘧': 850, '栖': 851, '荷': 852, '幼': 853, '并': 854, '工': 855, '誉': 856, '耕': 857, '莅': 858, '蹈': 859, '某': 860, '均': 861, '崩': 862, '侮': 863, '亢': 864, '遇': 865, '涂': 866, '鸡': 867, '佛': 868, '肸': 869, '兽': 870, '朱': 871, '流': 872, '黜': 873, '楚': 874, '沮': 875, '津': 876, '滔': 877, '丈': 878, '伦': 879, '连': 880, '俨': 881, '皇': 882, '朕': 883, '万': 884, '贪': 885, '泛': 886, '良': 887, '磋': 888, '琢': 889, '北': 890, '辰': 891, '星': 892, '邪': 893, '格': 894, '矩': 895, '懿': 896, '慈': 897, '輗': 898, '軏': 899, '佾': 900, '维': 901, '救': 902, '呜': 903, '呼': 904, '倩': 905, '盼': 906, '绚': 907, '绘': 908, '起': 909, '杞': 910, '献': 911, '灌': 912, '示': 913, '掌': 914, '奥': 915, '灶': 916, '监': 917, '鄹': 918, '皮': 919, '科': 920, '朔': 921, '饩': 922, '咎': 923, '翕': 924, '皦': 925, '仪': 926, '封': 927, '铎': 928, '造': 929, '沛': 930, '夕': 931, '冶': 932, '缧': 933, '绁': 934, '戮': 935, '瑚': 936, '琏': 937, '给': 938, '憎': 939, '漆': 940, '开': 941, '桴': 942, '材': 943, '赋': 944, '带': 945, '朽': 946, '粪': 947, '圬': 948, '诛': 949, '藻': 950, '棁': 951, '斐': 952, '裁': 953, '念': 954, '醯': 955, '匿': 956, '憾': 957, '桑': 958, '怒': 959, '贰': 960, '釜': 961, '庾': 962, '秉': 963, '肥': 964, '急': 965, '犁': 966, '骍': 967, '角': 968, '汶': 969, '牖': 970, '箪': 971, '瓢': 972, '堪': 973, '画': 974, '澹': 975, '台': 976, '径': 977, '奔': 978, '殿': 979, '策': 980, '静': 981, '寿': 982, '井': 983, '陷': 984, '否': 985, '庸': 986, '济': 987, '彭': 988, '默': 989, '讲': 990, '燕': 991, '梦': 992, '据': 993, '依': 994, '脩': 995, '悱': 996, '冯': 997, '鞭': 998, '斋': 999, '味': 1000, '於': 1001, '曲': 1002, '肱': 1003, '枕': 1004, '怪': 1005, '魋': 1006, '钓': 1007, '纲': 1008, '弋': 1009, '互': 1010, '保': 1011, '诔': 1012, '祇': 1013, '坦': 1014, '葸': 1015, '遗': 1016, '偷': 1017, '冰': 1018, '倍': 1019, '笾': 1020, '存': 1021, '校': 1022, '托': 1023, '尺': 1024, '寄': 1025, '侗': 1026, '焕': 1027, '际': 1028, '菲': 1029, '黼': 1030, '卑': 1031, '洫': 1032, '罕': 1033, '麻': 1034, '意': 1035, '兹': 1036, '牢': 1037, '诱': 1038, '罢': 1039, '卓': 1040, '韫': 1041, '颂': 1042, '卿': 1043, '勉': 1044, '惰': 1045, '苗': 1046, '巽': 1047, '缊': 1048, '袍': 1049, '忮': 1050, '寒': 1051, '凋': 1052, '棣': 1053, '偏': 1054, '摈': 1055, '襜': 1056, '阈': 1057, '息': 1058, '等': 1059, '逞': 1060, '享': 1061, '觌': 1062, '绀': 1063, '緅': 1064, '红': 1065, '暑': 1066, '袗': 1067, '絺': 1068, '绤': 1069, '表': 1070, '麑': 1071, '黄': 1072, '袂': 1073, '半': 1074, '佩': 1075, '帷': 1076, '吊': 1077, '吉': 1078, '布': 1079, '精': 1080, '脍': 1081, '细': 1082, '饐': 1083, '餲': 1084, '臭': 1085, '饪': 1086, '酱': 1087, '脯': 1088, '撤': 1089, '姜': 1090, '菜': 1091, '羹': 1092, '傩': 1093, '阼': 1094, '送': 1095, '药': 1096, '厩': 1097, '焚': 1098, '腥': 1099, '熟': 1100, '荐': 1101, '畜': 1102, '拖': 1103, '驾': 1104, '殡': 1105, '尸': 1106, '凶': 1107, '版': 1108, '迅': 1109, '雷': 1110, '烈': 1111, '翔': 1112, '集': 1113, '梁': 1114, '雌': 1115, '雉': 1116, '嗅': 1117, '助': 1118, '昆': 1119, '棺': 1120, '府': 1121, '仍': 1122, '聚': 1123, '敛': 1124, '附': 1125, '柴': 1126, '喭': 1127, '殖': 1128, '践': 1129, '迹': 1130, '兼': 1131, '具': 1132, '读': 1133, '率': 1134, '馑': 1135, '甫': 1136, '铿': 1137, '撰': 1138, '暮': 1139, '沂': 1140, '咏': 1141, '疚': 1142, '棘': 1143, '舌': 1144, '豹': 1145, '只': 1146, '片': 1147, '折': 1148, '狱': 1149, '赏': 1150, '皋': 1151, '陶': 1152, '伊': 1153, '辅': 1154, '迂': 1155, '措': 1156, '农': 1157, '须': 1158, '襁': 1159, '专': 1160, '荆': 1161, '完': 1162, '仆': 1163, '残': 1164, '莒': 1165, '攘': 1166, '证': 1167, '族': 1168, '筲': 1169, '算': 1170, '医': 1171, '羞': 1172, '占': 1173, '戎': 1174, '宪': 1175, '羿': 1176, '奡': 1177, '舟': 1178, '俱': 1179, '答': 1180, '裨': 1181, '谌': 1182, '创': 1183, '羽': 1184, '骈': 1185, '齿': 1186, '赵': 1187, '魏': 1188, '滕': 1189, '薛': 1190, '卞': 1191, '防': 1192, '晋': 1193, '霸': 1194, '被': 1195, '衽': 1196, '经': 1197, '渎': 1198, '僎': 1199, '圉': 1200, '怍': 1201, '沐': 1202, '暇': 1203, '逆': 1204, '觉': 1205, '亩': 1206, '骥': 1207, '石': 1208, '晨': 1209, '蒉': 1210, '浅': 1211, '揭': 1212, '阴': 1213, '薨': 1214, '总': 1215, '冢': 1216, '壤': 1217, '胫': 1218, '俎': 1219, '粮': 1220, '滥': 1221, '蛮': 1222, '貊': 1223, '州': 1224, '倚': 1225, '衡': 1226, '卷': 1227, '辂': 1228, '责': 1229, '慧': 1230, '借': 1231, '贞': 1232, '类': 1233, '蒙': 1234, '域': 1235, '列': 1236, '持': 1237, '扶': 1238, '兕': 1239, '柙': 1240, '龟': 1241, '倾': 1242, '离': 1243, '析': 1244, '戈': 1245, '萧': 1246, '陪': 1247, '柔': 1248, '佚': 1249, '宴': 1250, '愆': 1251, '躁': 1252, '壮': 1253, '聪': 1254, '探': 1255, '饿': 1256, '豚': 1257, '宝': 1258, '迷': 1259, '亟': 1260, '移': 1261, '弦': 1262, '莞': 1263, '刀': 1264, '戏': 1265, '扰': 1266, '牟': 1267, '磷': 1268, '涅': 1269, '匏': 1270, '系': 1271, '迩': 1272, '帛': 1273, '钟': 1274, '荏': 1275, '穿': 1276, '窬': 1277, '廉': 1278, '戾': 1279, '物': 1280, '孺': 1281, '悲': 1282, '坏': 1283, '燧': 1284, '稻': 1285, '锦': 1286, '旨': 1287, '甘': 1288, '通': 1289, '弈': 1290, '讪': 1291, '窒': 1292, '徼': 1293, '讦': 1294, '逊': 1295, '箕': 1296, '奴': 1297, '接': 1298, '耦': 1299, '耰': 1300, '辍': 1301, '怃': 1302, '蓧': 1303, '体': 1304, '勤': 1305, '植': 1306, '芸': 1307, '拱': 1308, '黍': 1309, '亚': 1310, '缭': 1311, '缺': 1312, '秦': 1313, '播': 1314, '鼗': 1315, '汉': 1316, '襄': 1317, '突': 1318, '随': 1319, '騧': 1320, '嘉': 1321, '泥': 1322, '谤': 1323, '闲': 1324, '洒': 1325, '扫': 1326, '应': 1327, '区': 1328, '诬': 1329, '卒': 1330, '散': 1331, '纣': 1332, '更': 1333, '坠': 1334, '常': 1335, '肩': 1336, '窥': 1337, '仞': 1338, '宜': 1339, '陵': 1340, '荣': 1341, '咨': 1342, '历': 1343, '允': 1344, '永': 1345, '牡': 1346, '赉': 1347, '审': 1348, '度': 1349, '虐': 1350, '纳': 1351}\n",
      "[[-0.7921027   1.8714244 ]\n",
      " [-2.0924327  -0.8955877 ]\n",
      " [-0.8289357  -0.11562918]\n",
      " [-0.9423046  -0.13628413]\n",
      " [-1.2837718  -0.26565865]\n",
      " [-0.9882194   0.9683202 ]]\n"
     ]
    },
    {
     "data": {
      "image/png": "[encoded data removed]",
      "text/plain": [
       "<Figure size 1000x1000 with 1 Axes>"
      ]
     },
     "metadata": {},
     "output_type": "display_data"
    }
   ],
   "source": [
    "import gensim\n",
    "# Plot the following words or other words you are interested in\n",
    "# You better pick those words that look different in the 2D space compared with the LSA vectors\n",
    "words = ['学', '习', '曰', '子', '人', '仁']\n",
    "words_pinyin = ['xue', 'xi', 'yue', 'zi', 'ren1', 'ren2']\n",
    "\n",
    "### YOUR CODE HERE ###\n",
    "embedding_file = \"embeddings.txt\"\n",
    "model = gensim.models.KeyedVectors.load_word2vec_format(embedding_file, binary=False)\n",
    "print(model.key_to_index)\n",
    "selected_embeddings = np.array([model[word] for word in words])\n",
    "# print(selected_embeddings)\n",
    "svd1 = TruncatedSVD(n_components=2, random_state=42)\n",
    "M1 = svd1.fit_transform(selected_embeddings)\n",
    "print(M1)\n",
    "plt.figure(figsize=(10, 10))\n",
    "for i, word in enumerate(words):\n",
    "    plt.scatter(M1[i, 0], M1[i, 1])\n",
    "    plt.annotate(words_pinyin[i], (M1[i, 0], M1[i, 1]))\n",
    "plt.show()\n",
    "### END YOUR CODE ###"
   ]
  }
 ],
 "metadata": {
  "kernelspec": {
   "display_name": "DL312",
   "language": "python",
   "name": "python3"
  },
  "language_info": {
   "codemirror_mode": {
    "name": "ipython",
    "version": 3
   },
   "file_extension": ".py",
   "mimetype": "text/x-python",
   "name": "python",
   "nbconvert_exporter": "python",
   "pygments_lexer": "ipython3",
   "version": "3.12.7"
  }
 },
 "nbformat": 4,
 "nbformat_minor": 2
}
