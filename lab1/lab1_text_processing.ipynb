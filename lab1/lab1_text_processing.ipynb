{
 "cells": [
  {
   "cell_type": "markdown",
   "metadata": {},
   "source": [
    "# CS310 Natural Language Processing\n",
    "# Lab 1: Basic Text Processing with Python"
   ]
  },
  {
   "cell_type": "code",
   "execution_count": 66,
   "metadata": {},
   "outputs": [],
   "source": [
    "import re"
   ]
  },
  {
   "cell_type": "code",
   "execution_count": 67,
   "metadata": {},
   "outputs": [
    {
     "name": "stdout",
     "output_type": "stream",
     "text": [
      "# of lines:  4689\n",
      "# of characters:  385018\n"
     ]
    }
   ],
   "source": [
    "with open(\"三体3死神永生-刘慈欣.txt\", \"r\") as f:\n",
    "    raw = f.readlines()\n",
    "\n",
    "print('# of lines: ', len(raw))\n",
    "raw = ''.join(raw)\n",
    "print('# of characters: ', len(raw))"
   ]
  },
  {
   "cell_type": "markdown",
   "metadata": {},
   "source": [
    "## T0. Cleaning the raw data\n",
    "\n",
    "1. Replace the special token `\\u3000` with empty string \"\".\n",
    "2. Replace consecutive newlines with just a single one.\n",
    "3. Other cleaning work you can think of.\n",
    "\n",
    "*Hint*: Use `re.sub()`"
   ]
  },
  {
   "cell_type": "code",
   "execution_count": 68,
   "metadata": {},
   "outputs": [
    {
     "name": "stdout",
     "output_type": "stream",
     "text": [
      "# of characters:  375711\n",
      "# of characters:  375677\n"
     ]
    }
   ],
   "source": [
    "raw=re.sub(r'\\u3000','', raw)\n",
    "print('# of characters: ', len(raw))\n",
    "raw = re.sub(r'\\n+', r'\\n', raw)\n",
    "print('# of characters: ', len(raw))"
   ]
  },
  {
   "cell_type": "markdown",
   "metadata": {},
   "source": [
    "## T1. Count the number of Chinese tokens\n",
    "\n",
    "*Hint*: Use `re.findall()` and the range of Chinese characters in Unicode, i.e., `[\\u4e00-\\u9fa5]`."
   ]
  },
  {
   "cell_type": "code",
   "execution_count": 69,
   "metadata": {},
   "outputs": [
    {
     "name": "stdout",
     "output_type": "stream",
     "text": [
      "Number of Chinese tokens: 329946\n"
     ]
    }
   ],
   "source": [
    "chinese_tokens = re.findall(r'[\\u4e00-\\u9fa5]', raw)\n",
    "print('Number of Chinese tokens:', len(chinese_tokens))"
   ]
  },
  {
   "cell_type": "markdown",
   "metadata": {},
   "source": [
    "## T2. Build the vocabulary for all Chinese tokens\n",
    "\n",
    "Use a Python `dict` object or instance of  `collections.Counter()` to count the frequency of each Chinese token.\n",
    "\n",
    "*Hint*: Go through the `raw` string and for each unique Chinese token, add it to the `dict` or `Counter` object with a count of 1. If the token is already in the `dict` or `Counter` object, increment its count by 1.\n",
    "\n",
    "Check the vocabulary size and print the top 20 most frequent Chinese tokens and their counts."
   ]
  },
  {
   "cell_type": "code",
   "execution_count": 70,
   "metadata": {},
   "outputs": [
    {
     "name": "stdout",
     "output_type": "stream",
     "text": [
      "voc size: 3027\n",
      "Top 20  [('的', 15990), ('一', 6749), ('是', 4837), ('在', 4748), ('了', 4149), ('有', 3656), ('这', 3532), ('个', 3458), ('不', 3117), ('人', 2988), ('中', 2649), ('到', 2632), ('他', 2354), ('上', 2194), ('们', 2164), ('时', 2076), ('心', 2007), ('地', 1953), ('大', 1938), ('来', 1855)]\n"
     ]
    }
   ],
   "source": [
    "import collections\n",
    "\n",
    "vocab = collections.Counter(chinese_tokens)\n",
    "print('voc size:', len(vocab))\n",
    "print('Top 20 ', vocab.most_common(20))"
   ]
  },
  {
   "cell_type": "markdown",
   "metadata": {},
   "source": [
    "## T3. Sentence segmentation\n",
    "\n",
    "Estimate the number of sentences in the `raw` string by separating the sentences with the delimiter punctuations, such as  `。`, `？`, `！` etc.\n",
    "\n",
    "*Hint*: Use `re.split()` and the correct regular expression. "
   ]
  },
  {
   "cell_type": "code",
   "execution_count": null,
   "metadata": {},
   "outputs": [
    {
     "name": "stdout",
     "output_type": "stream",
     "text": [
      "sentences: 11206\n"
     ]
    }
   ],
   "source": [
    "sentences = re.split(r'[。？！\\n]', raw)\n",
    "sentences = [s for s in sentences if len(s) > 0]\n",
    "print('sentences:', len(sentences))"
   ]
  },
  {
   "cell_type": "markdown",
   "metadata": {},
   "source": [
    "The sentences obtained with `re.split()` do not contain the delimiter punctuations. What if we want to keep the delimiter punctuations in the sentences?\n",
    "\n",
    "*Hint*: Use `re.findall()` and the correct regular expression."
   ]
  },
  {
   "cell_type": "code",
   "execution_count": 78,
   "metadata": {},
   "outputs": [
    {
     "name": "stdout",
     "output_type": "stream",
     "text": [
      "sentences2: 11206\n"
     ]
    }
   ],
   "source": [
    "pattern = r'.*?[。？！\\n]'\n",
    "sentences2 = re.findall(pattern, raw)\n",
    "sentences2 = [s for s in sentences2 if len(s) > 1]\n",
    "print('sentences2:', len(sentences2))"
   ]
  },
  {
   "cell_type": "markdown",
   "metadata": {},
   "source": [
    "## T4. Count consecutive English and number tokens\n",
    "\n",
    "Estimate the number of consecutive English and number tokens in the `raw` string. Build a vocabulary for them and count their frequency.\n",
    "\n",
    "*Hint*: Use `re.findall()` and the correct regular expression. Use similar method as in T2 to build the vocabulary and count the frequency."
   ]
  },
  {
   "cell_type": "code",
   "execution_count": 73,
   "metadata": {},
   "outputs": [
    {
     "name": "stdout",
     "output_type": "stream",
     "text": [
      "English and number tokens: 1125\n",
      "Top 20 English and number tokens: [('AA', 338), ('A', 68), ('I', 66), ('PIA', 45), ('PDC', 35), ('Ice', 34), ('1', 30), ('IDC', 28), ('DX3906', 27), ('5', 26), ('0', 22), ('Way', 20), ('647', 19), ('7', 19), ('3', 15), ('16', 14), ('11', 13), ('4', 12), ('2', 9), ('21', 8)]\n"
     ]
    }
   ],
   "source": [
    "tokens = re.findall(r'[a-zA-Z0-9]+', raw)\n",
    "vocab_en_num = collections.Counter(tokens)\n",
    "print('English and number tokens:', len(tokens))\n",
    "print('Top 20 English and number tokens:', vocab_en_num.most_common(20))"
   ]
  },
  {
   "cell_type": "markdown",
   "metadata": {},
   "source": [
    "## T5. Mix of patterns\n",
    "\n",
    "There are two characters whose names are \"艾AA\" and \"程心\". Find all sentences where \"艾AA\" and \"程心\" appear together. Consider fullnames only, that is, \"艾AA\" but not \"AA\" alone. \n",
    "\n",
    "*Hint*: You may find the lookbehind or lookahead pattern useful."
   ]
  },
  {
   "cell_type": "code",
   "execution_count": 74,
   "metadata": {},
   "outputs": [
    {
     "name": "stdout",
     "output_type": "stream",
     "text": [
      "16\n",
      "在程心眼中，艾AA是个像鸟一般轻灵的女孩子，充满生机地围着她飞来飞去。\n",
      "程心听到有人叫自己的名字，转身一看，竟是艾AA正向这里跑过来。\n",
      "程心让艾AA在原地等着自己，但AA坚持要随程心去，只好让她上了车。\n",
      "程心和艾AA是随最早的一批移民来到澳大利亚的。\n",
      "艾AA说程心的眼睛比以前更明亮更美丽了，也许她没有说谎。\n",
      "”坐在程心旁边的艾AA大叫起来，引来众人不满的侧目。\n",
      "这天，艾AA来找程心。\n",
      "是艾AA建议程心报名参加试验的，她认为这是为星环公司参与掩体工程而树立公众形象的一次极佳的免费广告，同时，她和程心都清楚试验是经过严密策划的，只是看上去刺激，基本没什么危险。\n",
      "在返回的途中，当太空艇与地球的距离缩小到三十万千米以内、通信基本没有延时时，程心给艾AA打电话，告诉了她与维德会面的事。\n",
      "与此同时，程心和艾AA进入冬眠。\n",
      "程心到亚洲一号的冬眠中心唤醒了冬眠中的艾AA，两人回到了地球。\n",
      "程心现在身处的世界是一个白色的球形空间，她看到艾AA飘浮在附近，和她一样身穿冬眠时的紧身服，头发湿漉漉的，四肢无力地摊开，显然也是刚刚醒来。\n",
      "对此程心感到很欣慰，到了新世界后，艾AA应该有一个美好的新生活了。\n",
      "程心想到了云天明和艾AA，他们在地面上，应该是安全的，但现在双方已经无法联系，她甚至都没能和他说上一句话。\n",
      "程心和关一帆再次拥抱在一起，他们都为艾AA和云天明流下了欣慰的泪水，幸福地感受着那两个人在十八万个世纪前的幸福，在这种幸福中，他们绝望的心灵变得无比宁静了。\n",
      "智子的话让程心想到了云天明和艾AA刻在岩石上的字，但关一帆想到的更多，他注意到了智子提到的一个词：田园时代。\n"
     ]
    }
   ],
   "source": [
    "# pattern = r'(?=.*艾AA)(?=.*程心).*?[。？！]'\n",
    "pattern = r'.*?艾AA.*?程心.*?|.*?程心.*?艾AA.*?'\n",
    "# sentences3 = re.findall(pattern, raw)\n",
    "sentences4 = [s for s in sentences2 if re.search(pattern, s)]\n",
    "\n",
    "\n",
    "# for i  in range(len(sentences4)):\n",
    "#     print(sentences3[i]+'   '+sentences4[i]+'\\n\\n')\n",
    "# print(len(sentences3))\n",
    "# print(sentences3)\n",
    "print(len(sentences4))\n",
    "for i in range(len(sentences4)):\n",
    "    print(sentences4[i])\n",
    "\n",
    "\n",
    "# print(sentences4)"
   ]
  }
 ],
 "metadata": {
  "kernelspec": {
   "display_name": "DL312",
   "language": "python",
   "name": "python3"
  },
  "language_info": {
   "codemirror_mode": {
    "name": "ipython",
    "version": 3
   },
   "file_extension": ".py",
   "mimetype": "text/x-python",
   "name": "python",
   "nbconvert_exporter": "python",
   "pygments_lexer": "ipython3",
   "version": "3.12.7"
  }
 },
 "nbformat": 4,
 "nbformat_minor": 2
}
