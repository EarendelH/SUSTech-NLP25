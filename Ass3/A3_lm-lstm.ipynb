{
 "cells": [
  {
   "cell_type": "markdown",
   "metadata": {},
   "source": [
    "## CS310 Natural Language Processing\n",
    "## Assignment 3. Recurrent Neural Networks for Language Modeling (LSTM Version)\n",
    "\n",
    "**Total points**: \n",
    "\n",
    "In this assignment, you will train an LSTM-based language model on the Harry Potter text data."
   ]
  },
  {
   "cell_type": "code",
   "execution_count": 10,
   "metadata": {},
   "outputs": [
    {
     "name": "stdout",
     "output_type": "stream",
     "text": [
      "Using device: cuda\n"
     ]
    }
   ],
   "source": [
    "# LSTM on Harry_Potter_all_books_preprocessed.txt\n",
    "import numpy as np\n",
    "import torch\n",
    "import torch.nn as nn\n",
    "import torch.optim as optim\n",
    "from torch.utils.data import Dataset, DataLoader\n",
    "import matplotlib.pyplot as plt\n",
    "from tqdm import tqdm\n",
    "import os\n",
    "import re\n",
    "import random\n",
    "import nltk\n",
    "import gensim.downloader as api\n",
    "from nltk.tokenize import word_tokenize\n",
    "from collections import Counter\n",
    "from utils import build_training_visualization\n",
    "\n",
    "torch.manual_seed(42)\n",
    "np.random.seed(42)\n",
    "random.seed(42)\n",
    "\n",
    "os.environ[\"CUDA_VISIBLE_DEVICES\"] = \"4\"  # 只使用GPU 4\n",
    "device = torch.device('cuda' if torch.cuda.is_available() else 'cpu')\n",
    "print(f\"Using device: {device}\")"
   ]
  },
  {
   "cell_type": "code",
   "execution_count": 24,
   "metadata": {},
   "outputs": [],
   "source": [
    "EMBEDDING_DIM = 200\n",
    "HIDDEN_DIM = 256\n",
    "NUM_LAYERS = 2\n",
    "DROPOUT_RATE = 0.2\n",
    "BATCH_SIZE = 64\n",
    "SEQ_LENGTH = 50\n",
    "LEARNING_RATE = 0.001\n",
    "NUM_EPOCHS = 10  \n",
    "MIN_WORD_FREQ = 2\n",
    "\n",
    "DATA_PATH = './Harry_Potter_all_books_preprocessed.txt'\n",
    "\n",
    "VISUALIZATION_PATH = './lstm_lm_training.png'\n",
    "\n",
    "# RANDOM_MODEL_PATH = './lstm_random_emb_model.pth'\n",
    "RANDOM_MODEL_PATH = '/home/stu_12310401/nlp/SUSTech-NLP25-clean/Ass3/lstm_lm_model-random200.pth'\n",
    "# PRETRAINED_MODEL_PATH = './lstm_pretrained_emb_model.pth'\n",
    "PRETRAINED_MODEL_PATH = '/home/stu_12310401/nlp/SUSTech-NLP25-clean/Ass3/lstm_lm_model_pretrained200.pth'\n",
    "\n",
    "try:\n",
    "    nltk.data.find('tokenizers/punkt')\n",
    "except LookupError:\n",
    "    nltk.download('punkt')"
   ]
  },
  {
   "cell_type": "code",
   "execution_count": 12,
   "metadata": {},
   "outputs": [],
   "source": [
    "def load_glove_embeddings(word_to_idx, embedding_dim=200):\n",
    "    print(\"加载 GloVe 嵌入...\")\n",
    "    glove_model = api.load(\"glove-wiki-gigaword-200\")\n",
    "    \n",
    "    embedding_matrix = np.zeros((len(word_to_idx), embedding_dim))\n",
    "    found_words = 0\n",
    "    \n",
    "    for word, idx in word_to_idx.items():\n",
    "        if word in glove_model:\n",
    "            embedding_matrix[idx] = glove_model[word]\n",
    "            found_words += 1\n",
    "    \n",
    "    print(f\"在 GloVe 嵌入中找到 {found_words}/{len(word_to_idx)} 个词\")\n",
    "    return embedding_matrix"
   ]
  },
  {
   "cell_type": "code",
   "execution_count": 13,
   "metadata": {},
   "outputs": [],
   "source": [
    "def load_and_preprocess_data(file_path):\n",
    "    with open(file_path, 'r', encoding='utf-8') as f:\n",
    "        text = f.read()\n",
    "    \n",
    "    tokens = word_tokenize(text)\n",
    "    \n",
    "    word_counts = Counter(tokens)\n",
    "    vocab = ['<PAD>', '<UNK>', '<START>', '<END>'] + [word for word, count in word_counts.most_common() if count >= MIN_WORD_FREQ]\n",
    "    word_to_idx = {word: idx for idx, word in enumerate(vocab)}\n",
    "    idx_to_word = {idx: word for idx, word in enumerate(vocab)}\n",
    "    \n",
    "    text_indices = []\n",
    "    for token in tokens:\n",
    "        if token in word_to_idx:\n",
    "            text_indices.append(word_to_idx[token])\n",
    "        else:\n",
    "            text_indices.append(word_to_idx['<UNK>'])\n",
    "    \n",
    "    return ' '.join(tokens), text_indices, word_to_idx, idx_to_word, len(vocab)"
   ]
  },
  {
   "cell_type": "code",
   "execution_count": 14,
   "metadata": {},
   "outputs": [],
   "source": [
    "class TextDataset(Dataset):\n",
    "    def __init__(self, text_indices, seq_length):\n",
    "        self.text_indices = text_indices\n",
    "        self.seq_length = seq_length\n",
    "        \n",
    "    def __len__(self):\n",
    "        return len(self.text_indices) - self.seq_length\n",
    "    \n",
    "    def __getitem__(self, idx):\n",
    "        sequence = self.text_indices[idx:idx+self.seq_length]\n",
    "        target = self.text_indices[idx+1:idx+self.seq_length+1]\n",
    "        \n",
    "        return torch.tensor(sequence, dtype=torch.long), torch.tensor(target, dtype=torch.long)"
   ]
  },
  {
   "cell_type": "code",
   "execution_count": 15,
   "metadata": {},
   "outputs": [],
   "source": [
    "class LSTMModel(nn.Module):\n",
    "    def __init__(self, vocab_size, embedding_dim, hidden_dim, num_layers, dropout_rate,pretrained_embeddings=None):\n",
    "        super(LSTMModel, self).__init__()\n",
    "        self.embedding = nn.Embedding(vocab_size, embedding_dim)\n",
    "        if pretrained_embeddings is not None:\n",
    "            self.embedding.weight.data.copy_(torch.from_numpy(pretrained_embeddings))\n",
    "            print(\"预训练嵌入加载成功\")\n",
    "        self.lstm = nn.LSTM(embedding_dim, hidden_dim, num_layers, \n",
    "                           batch_first=True, dropout=dropout_rate if num_layers > 1 else 0)\n",
    "        self.fc = nn.Linear(hidden_dim, vocab_size)\n",
    "        self.dropout = nn.Dropout(dropout_rate)\n",
    "        \n",
    "        self.hidden_dim = hidden_dim\n",
    "        self.num_layers = num_layers\n",
    "        \n",
    "    def forward(self, x, hidden=None):\n",
    "        if hidden is None:\n",
    "            hidden = self.init_hidden(x.size(0))\n",
    "            \n",
    "        embedded = self.embedding(x)\n",
    "        embedded = self.dropout(embedded)\n",
    "        \n",
    "        output, hidden = self.lstm(embedded, hidden)\n",
    "        output = self.dropout(output)\n",
    "        \n",
    "        output = self.fc(output)\n",
    "        \n",
    "        return output, hidden\n",
    "    \n",
    "    def init_hidden(self, batch_size):\n",
    "        weight = next(self.parameters())\n",
    "        return (weight.new_zeros(self.num_layers, batch_size, self.hidden_dim),\n",
    "                weight.new_zeros(self.num_layers, batch_size, self.hidden_dim))"
   ]
  },
  {
   "cell_type": "code",
   "execution_count": 16,
   "metadata": {},
   "outputs": [],
   "source": [
    "def train(model, dataloader, criterion, optimizer, clip_value=5.0):\n",
    "    model.train()\n",
    "    total_loss = 0\n",
    "    \n",
    "    for inputs, targets in tqdm(dataloader, desc=\"Training\"):\n",
    "        inputs, targets = inputs.to(device), targets.to(device)\n",
    "        \n",
    "        hidden = model.init_hidden(inputs.size(0))\n",
    "        \n",
    "        optimizer.zero_grad()\n",
    "        \n",
    "        outputs, hidden = model(inputs, hidden)\n",
    "        \n",
    "        outputs = outputs.reshape(-1, outputs.size(2))\n",
    "        targets = targets.reshape(-1)\n",
    "        \n",
    "        loss = criterion(outputs, targets)\n",
    "        \n",
    "        loss.backward()\n",
    "        \n",
    "        nn.utils.clip_grad_norm_(model.parameters(), clip_value)\n",
    "        \n",
    "        optimizer.step()\n",
    "        \n",
    "        total_loss += loss.item()\n",
    "    \n",
    "    return total_loss / len(dataloader)"
   ]
  },
  {
   "cell_type": "code",
   "execution_count": 17,
   "metadata": {},
   "outputs": [],
   "source": [
    "def evaluate(model, dataloader, criterion):\n",
    "    model.eval()\n",
    "    total_loss = 0\n",
    "    \n",
    "    with torch.no_grad():\n",
    "        for inputs, targets in tqdm(dataloader, desc=\"Evaluating\"):\n",
    "            inputs, targets = inputs.to(device), targets.to(device)\n",
    "            \n",
    "            hidden = model.init_hidden(inputs.size(0))\n",
    "            \n",
    "            outputs, hidden = model(inputs, hidden)\n",
    "            \n",
    "            outputs = outputs.reshape(-1, outputs.size(2))\n",
    "            targets = targets.reshape(-1)\n",
    "            \n",
    "            loss = criterion(outputs, targets)\n",
    "            \n",
    "            total_loss += loss.item()\n",
    "    \n",
    "    return total_loss / len(dataloader)"
   ]
  },
  {
   "cell_type": "code",
   "execution_count": 18,
   "metadata": {},
   "outputs": [],
   "source": [
    "def generate_text(model, seed_text, word_to_idx, idx_to_word, length=20, temperature=1.0):\n",
    "    model.eval()\n",
    "    \n",
    "    seed_tokens = word_tokenize(seed_text)\n",
    "    \n",
    "    seed_indices = []\n",
    "    for token in seed_tokens:\n",
    "        if token in word_to_idx:\n",
    "            seed_indices.append(word_to_idx[token])\n",
    "        else:\n",
    "            seed_indices.append(word_to_idx['<UNK>'])\n",
    "    \n",
    "    if len(seed_indices) < SEQ_LENGTH:\n",
    "        seed_indices = [word_to_idx['<PAD>']] * (SEQ_LENGTH - len(seed_indices)) + seed_indices\n",
    "    elif len(seed_indices) > SEQ_LENGTH:\n",
    "        seed_indices = seed_indices[-SEQ_LENGTH:]\n",
    "    \n",
    "    current_indices = seed_indices.copy()\n",
    "    generated_tokens = seed_tokens.copy()\n",
    "    \n",
    "    hidden = model.init_hidden(1)\n",
    "    \n",
    "    with torch.no_grad():\n",
    "        for _ in range(length):\n",
    "            x = torch.tensor([current_indices], dtype=torch.long).to(device)\n",
    "            output, hidden = model(x, hidden)\n",
    "            \n",
    "            output = output[0, -1, :] / temperature\n",
    "            probabilities = torch.softmax(output, dim=0)\n",
    "            \n",
    "            next_index = torch.multinomial(probabilities, 1).item()\n",
    "            \n",
    "            generated_tokens.append(idx_to_word[next_index])\n",
    "            \n",
    "            current_indices = current_indices[1:] + [next_index]\n",
    "    \n",
    "    return ' '.join(generated_tokens)"
   ]
  },
  {
   "cell_type": "code",
   "execution_count": 19,
   "metadata": {},
   "outputs": [],
   "source": [
    "def generate_text_greedy(model, seed_text, word_to_idx, idx_to_word, length=20):\n",
    "    model.eval()\n",
    "    \n",
    "    # 对种子文本进行分词\n",
    "    seed_tokens = word_tokenize(seed_text)\n",
    "    \n",
    "    # 转换为索引\n",
    "    seed_indices = []\n",
    "    for token in seed_tokens:\n",
    "        if token in word_to_idx:\n",
    "            seed_indices.append(word_to_idx[token])\n",
    "        else:\n",
    "            seed_indices.append(word_to_idx['<UNK>'])\n",
    "    \n",
    "    if len(seed_indices) < SEQ_LENGTH:\n",
    "        seed_indices = [word_to_idx['<PAD>']] * (SEQ_LENGTH - len(seed_indices)) + seed_indices\n",
    "    elif len(seed_indices) > SEQ_LENGTH:\n",
    "        seed_indices = seed_indices[-SEQ_LENGTH:]\n",
    "    \n",
    "    current_indices = seed_indices.copy()\n",
    "    generated_tokens = seed_tokens.copy()\n",
    "    \n",
    "    hidden = model.init_hidden(1)\n",
    "    \n",
    "    with torch.no_grad():\n",
    "        for _ in range(length):\n",
    "            x = torch.tensor([current_indices], dtype=torch.long).to(device)\n",
    "            output, hidden = model(x, hidden)\n",
    "            \n",
    "            output = output[0, -1, :]\n",
    "            \n",
    "            next_index = torch.argmax(output).item()\n",
    "            \n",
    "            generated_tokens.append(idx_to_word[next_index])\n",
    "            \n",
    "            current_indices = current_indices[1:] + [next_index]\n",
    "    \n",
    "    return ' '.join(generated_tokens)"
   ]
  },
  {
   "cell_type": "code",
   "execution_count": 20,
   "metadata": {},
   "outputs": [],
   "source": [
    "def calculate_perplexity(model, dataloader, criterion):\n",
    "    model.eval()\n",
    "    total_loss = 0\n",
    "    total_words = 0\n",
    "    \n",
    "    with torch.no_grad():\n",
    "        for inputs, targets in tqdm(dataloader, desc=\"Calculating Perplexity\"):\n",
    "            inputs, targets = inputs.to(device), targets.to(device)\n",
    "            hidden = model.init_hidden(inputs.size(0))\n",
    "            outputs, _ = model(inputs, hidden)\n",
    "            \n",
    "            outputs = outputs.reshape(-1, outputs.size(2))\n",
    "            targets = targets.reshape(-1)\n",
    "            \n",
    "            loss = criterion(outputs, targets)\n",
    "            total_loss += loss.item() * targets.size(0)\n",
    "            total_words += targets.size(0)\n",
    "    \n",
    "    avg_loss = total_loss / total_words\n",
    "    perplexity = torch.exp(torch.tensor(avg_loss)).item()\n",
    "    return perplexity"
   ]
  },
  {
   "cell_type": "code",
   "execution_count": 21,
   "metadata": {},
   "outputs": [
    {
     "name": "stdout",
     "output_type": "stream",
     "text": [
      "Loading and preprocessing data...\n"
     ]
    },
    {
     "name": "stdout",
     "output_type": "stream",
     "text": [
      "Vocabulary size: 18365\n"
     ]
    }
   ],
   "source": [
    "print(\"Loading and preprocessing data...\")\n",
    "text, text_indices, word_to_idx, idx_to_word, vocab_size = load_and_preprocess_data(DATA_PATH)\n",
    "print(f\"Vocabulary size: {vocab_size}\")\n",
    "\n",
    "dataset = TextDataset(text_indices, SEQ_LENGTH)\n",
    "\n",
    "total_size = len(dataset)\n",
    "train_size = int(0.9 * total_size)\n",
    "val_size = int(0.05 * total_size)\n",
    "test_size = total_size - train_size - val_size\n",
    "\n",
    "train_dataset, val_dataset, test_dataset = torch.utils.data.random_split(\n",
    "    dataset, \n",
    "    [train_size, val_size, test_size],\n",
    "    generator=torch.Generator().manual_seed(42)\n",
    ")\n",
    "\n",
    "train_dataloader = DataLoader(train_dataset, batch_size=BATCH_SIZE, shuffle=True)\n",
    "val_dataloader = DataLoader(val_dataset, batch_size=BATCH_SIZE, shuffle=False)\n",
    "test_dataloader = DataLoader(test_dataset, batch_size=BATCH_SIZE, shuffle=False)"
   ]
  },
  {
   "cell_type": "code",
   "execution_count": 25,
   "metadata": {},
   "outputs": [
    {
     "name": "stdout",
     "output_type": "stream",
     "text": [
      "加载 GloVe 嵌入...\n",
      "在 GloVe 嵌入中找到 12789/18365 个词\n",
      "预训练嵌入加载成功\n"
     ]
    }
   ],
   "source": [
    "# Load pretrained embeddings long time to download\n",
    "pretrained_embeddings = load_glove_embeddings(word_to_idx, EMBEDDING_DIM)\n",
    "\n",
    "# Initialize models\n",
    "random_model = LSTMModel(vocab_size, EMBEDDING_DIM, HIDDEN_DIM, NUM_LAYERS, DROPOUT_RATE).to(device)\n",
    "pretrained_model = LSTMModel(vocab_size, EMBEDDING_DIM, HIDDEN_DIM, NUM_LAYERS, DROPOUT_RATE, \n",
    "                            pretrained_embeddings=pretrained_embeddings).to(device)\n",
    "\n",
    "# Loss function and optimizers\n",
    "criterion = nn.CrossEntropyLoss()\n",
    "random_optimizer = optim.Adam(random_model.parameters(), lr=LEARNING_RATE)\n",
    "pretrained_optimizer = optim.Adam(pretrained_model.parameters(), lr=LEARNING_RATE)"
   ]
  },
  {
   "cell_type": "code",
   "execution_count": 28,
   "metadata": {},
   "outputs": [
    {
     "name": "stdout",
     "output_type": "stream",
     "text": [
      "Loading checkpoint from /home/stu_12310401/nlp/SUSTech-NLP25-clean/Ass3/lstm_lm_model-random200.pth\n",
      "LSTMModel(\n",
      "  (embedding): Embedding(18365, 200)\n",
      "  (lstm): LSTM(200, 256, num_layers=2, batch_first=True, dropout=0.2)\n",
      "  (fc): Linear(in_features=256, out_features=18365, bias=True)\n",
      "  (dropout): Dropout(p=0.2, inplace=False)\n",
      ")\n",
      "train_loss is 3.5507739315215696\n"
     ]
    },
    {
     "name": "stderr",
     "output_type": "stream",
     "text": [
      "/tmp/ipykernel_2411263/3170455105.py:4: FutureWarning: You are using `torch.load` with `weights_only=False` (the current default value), which uses the default pickle module implicitly. It is possible to construct malicious pickle data which will execute arbitrary code during unpickling (See https://github.com/pytorch/pytorch/blob/main/SECURITY.md#untrusted-models for more details). In a future release, the default value for `weights_only` will be flipped to `True`. This limits the functions that could be executed during unpickling. Arbitrary objects will no longer be allowed to be loaded via this mode unless they are explicitly allowlisted by the user via `torch.serialization.add_safe_globals`. We recommend you start setting `weights_only=True` for any use case where you don't have full control of the loaded file. Please open an issue on GitHub for any issues related to this experimental feature.\n",
      "  checkpoint = torch.load(RANDOM_MODEL_PATH)\n"
     ]
    }
   ],
   "source": [
    "# 从检查点加载模型\n",
    "if os.path.exists(RANDOM_MODEL_PATH):\n",
    "    print(f\"Loading checkpoint from {RANDOM_MODEL_PATH}\")\n",
    "    checkpoint = torch.load(RANDOM_MODEL_PATH)\n",
    "    random_model.load_state_dict(checkpoint['model_state_dict'])\n",
    "    random_optimizer.load_state_dict(checkpoint['optimizer_state_dict'])\n",
    "    epoch = checkpoint['epoch']\n",
    "    train_loss = checkpoint['train_loss']\n",
    "    random_model.eval()  \n",
    "    print(random_model)\n",
    "    print(f\"train_loss is {train_loss}\")\n"
   ]
  },
  {
   "cell_type": "code",
   "execution_count": 34,
   "metadata": {},
   "outputs": [
    {
     "name": "stdout",
     "output_type": "stream",
     "text": [
      "Loading checkpoint from /home/stu_12310401/nlp/SUSTech-NLP25-clean/Ass3/lstm_lm_model_pretrained200.pth\n",
      "LSTMModel(\n",
      "  (embedding): Embedding(18365, 200)\n",
      "  (lstm): LSTM(200, 256, num_layers=2, batch_first=True, dropout=0.2)\n",
      "  (fc): Linear(in_features=256, out_features=18365, bias=True)\n",
      "  (dropout): Dropout(p=0.2, inplace=False)\n",
      ")\n",
      "train_loss is 3.4858402025123194\n"
     ]
    },
    {
     "name": "stderr",
     "output_type": "stream",
     "text": [
      "/tmp/ipykernel_2411263/2227843158.py:3: FutureWarning: You are using `torch.load` with `weights_only=False` (the current default value), which uses the default pickle module implicitly. It is possible to construct malicious pickle data which will execute arbitrary code during unpickling (See https://github.com/pytorch/pytorch/blob/main/SECURITY.md#untrusted-models for more details). In a future release, the default value for `weights_only` will be flipped to `True`. This limits the functions that could be executed during unpickling. Arbitrary objects will no longer be allowed to be loaded via this mode unless they are explicitly allowlisted by the user via `torch.serialization.add_safe_globals`. We recommend you start setting `weights_only=True` for any use case where you don't have full control of the loaded file. Please open an issue on GitHub for any issues related to this experimental feature.\n",
      "  checkpoint = torch.load(PRETRAINED_MODEL_PATH)\n"
     ]
    }
   ],
   "source": [
    "if os.path.exists(PRETRAINED_MODEL_PATH):\n",
    "    print(f\"Loading checkpoint from {PRETRAINED_MODEL_PATH}\")\n",
    "    checkpoint = torch.load(PRETRAINED_MODEL_PATH)\n",
    "    pretrained_model.load_state_dict(checkpoint['model_state_dict'])\n",
    "    pretrained_optimizer.load_state_dict(checkpoint['optimizer_state_dict'])\n",
    "    epoch = checkpoint['epoch']\n",
    "    train_loss = checkpoint['train_loss']\n",
    "    pretrained_model.eval()  \n",
    "    print(pretrained_model)\n",
    "    print(f\"train_loss is {train_loss}\")"
   ]
  },
  {
   "cell_type": "code",
   "execution_count": 29,
   "metadata": {},
   "outputs": [
    {
     "name": "stdout",
     "output_type": "stream",
     "text": [
      "Starting training...\n",
      "Epoch 1/10\n",
      "Training model with random embeddings...\n"
     ]
    },
    {
     "name": "stderr",
     "output_type": "stream",
     "text": [
      "Training:   1%|          | 103/15552 [00:04<10:59, 23.43it/s]\n"
     ]
    },
    {
     "ename": "KeyboardInterrupt",
     "evalue": "",
     "output_type": "error",
     "traceback": [
      "\u001b[0;31m---------------------------------------------------------------------------\u001b[0m",
      "\u001b[0;31mKeyboardInterrupt\u001b[0m                         Traceback (most recent call last)",
      "Cell \u001b[0;32mIn[29], line 13\u001b[0m\n\u001b[1;32m     11\u001b[0m \u001b[38;5;66;03m# Train and evaluate random model\u001b[39;00m\n\u001b[1;32m     12\u001b[0m \u001b[38;5;28mprint\u001b[39m(\u001b[38;5;124m\"\u001b[39m\u001b[38;5;124mTraining model with random embeddings...\u001b[39m\u001b[38;5;124m\"\u001b[39m)\n\u001b[0;32m---> 13\u001b[0m random_train_loss \u001b[38;5;241m=\u001b[39m \u001b[43mtrain\u001b[49m\u001b[43m(\u001b[49m\u001b[43mrandom_model\u001b[49m\u001b[43m,\u001b[49m\u001b[43m \u001b[49m\u001b[43mtrain_dataloader\u001b[49m\u001b[43m,\u001b[49m\u001b[43m \u001b[49m\u001b[43mcriterion\u001b[49m\u001b[43m,\u001b[49m\u001b[43m \u001b[49m\u001b[43mrandom_optimizer\u001b[49m\u001b[43m)\u001b[49m\n\u001b[1;32m     14\u001b[0m random_val_loss \u001b[38;5;241m=\u001b[39m evaluate(random_model, val_dataloader, criterion)\n\u001b[1;32m     15\u001b[0m random_train_losses\u001b[38;5;241m.\u001b[39mappend(random_train_loss)\n",
      "Cell \u001b[0;32mIn[16], line 25\u001b[0m, in \u001b[0;36mtrain\u001b[0;34m(model, dataloader, criterion, optimizer, clip_value)\u001b[0m\n\u001b[1;32m     21\u001b[0m     nn\u001b[38;5;241m.\u001b[39mutils\u001b[38;5;241m.\u001b[39mclip_grad_norm_(model\u001b[38;5;241m.\u001b[39mparameters(), clip_value)\n\u001b[1;32m     23\u001b[0m     optimizer\u001b[38;5;241m.\u001b[39mstep()\n\u001b[0;32m---> 25\u001b[0m     total_loss \u001b[38;5;241m+\u001b[39m\u001b[38;5;241m=\u001b[39m \u001b[43mloss\u001b[49m\u001b[38;5;241;43m.\u001b[39;49m\u001b[43mitem\u001b[49m\u001b[43m(\u001b[49m\u001b[43m)\u001b[49m\n\u001b[1;32m     27\u001b[0m \u001b[38;5;28;01mreturn\u001b[39;00m total_loss \u001b[38;5;241m/\u001b[39m \u001b[38;5;28mlen\u001b[39m(dataloader)\n",
      "\u001b[0;31mKeyboardInterrupt\u001b[0m: "
     ]
    }
   ],
   "source": [
    "\n",
    "# Training loop\n",
    "print(\"Starting training...\")\n",
    "random_train_losses = []\n",
    "random_val_losses = []\n",
    "pretrained_train_losses = []\n",
    "pretrained_val_losses = []\n",
    "\n",
    "for epoch in range(NUM_EPOCHS):\n",
    "    print(f\"Epoch {epoch+1}/{NUM_EPOCHS}\")\n",
    "    \n",
    "    # Train and evaluate random model\n",
    "    print(\"Training model with random embeddings...\")\n",
    "    random_train_loss = train(random_model, train_dataloader, criterion, random_optimizer)\n",
    "    random_val_loss = evaluate(random_model, val_dataloader, criterion)\n",
    "    random_train_losses.append(random_train_loss)\n",
    "    random_val_losses.append(random_val_loss)\n",
    "    \n",
    "    # Train and evaluate pretrained model\n",
    "    print(\"Training model with pretrained embeddings...\")\n",
    "    pretrained_train_loss = train(pretrained_model, train_dataloader, criterion, pretrained_optimizer)\n",
    "    pretrained_val_loss = evaluate(pretrained_model, val_dataloader, criterion)\n",
    "    pretrained_train_losses.append(pretrained_train_loss)\n",
    "    pretrained_val_losses.append(pretrained_val_loss)\n",
    "    \n",
    "    print(f\"Random Embeddings - Train Loss: {random_train_loss:.4f}, Val Loss: {random_val_loss:.4f}\")\n",
    "    print(f\"Pretrained Embeddings - Train Loss: {pretrained_train_loss:.4f}, Val Loss: {pretrained_val_loss:.4f}\")\n",
    "    \n",
    "    # Save model checkpoints\n",
    "    \n",
    "    # torch.save({\n",
    "    #     'epoch': epoch,\n",
    "    #     'model_state_dict': random_model.state_dict(),\n",
    "    #     'optimizer_state_dict': random_optimizer.state_dict(),\n",
    "    #     'train_loss': random_train_loss,\n",
    "    #     'val_loss': random_val_loss,\n",
    "    # }, RANDOM_MODEL_PATH)\n",
    "    # torch.save({\n",
    "    #     'epoch': epoch,\n",
    "    #     'model_state_dict': pretrained_model.state_dict(),\n",
    "    #     'optimizer_state_dict': pretrained_optimizer.state_dict(),\n",
    "    #     'train_loss': pretrained_train_loss,\n",
    "    #     'val_loss': pretrained_val_loss,\n",
    "    # }, PRETRAINED_MODEL_PATH)"
   ]
  },
  {
   "cell_type": "code",
   "execution_count": 35,
   "metadata": {},
   "outputs": [
    {
     "name": "stderr",
     "output_type": "stream",
     "text": [
      "Calculating Perplexity: 100%|██████████| 864/864 [00:07<00:00, 117.11it/s]\n",
      "Calculating Perplexity: 100%|██████████| 864/864 [00:07<00:00, 116.59it/s]"
     ]
    },
    {
     "name": "stdout",
     "output_type": "stream",
     "text": [
      "Random embedding test perplexity: 18.17\n",
      "Pretrained embedding test perplexity: 16.52\n"
     ]
    },
    {
     "name": "stderr",
     "output_type": "stream",
     "text": [
      "\n"
     ]
    }
   ],
   "source": [
    "random_test_perplexity = calculate_perplexity(random_model, test_dataloader, criterion)\n",
    "pretrained_test_perplexity = calculate_perplexity(pretrained_model, test_dataloader, criterion)\n",
    "print(f\"Random embedding test perplexity: {random_test_perplexity:.2f}\")\n",
    "print(f\"Pretrained embedding test perplexity: {pretrained_test_perplexity:.2f}\")\n"
   ]
  },
  {
   "cell_type": "code",
   "execution_count": 36,
   "metadata": {},
   "outputs": [
    {
     "data": {
      "image/png": "[encoded data removed]",
      "text/plain": [
       "<Figure size 1200x600 with 2 Axes>"
      ]
     },
     "metadata": {},
     "output_type": "display_data"
    }
   ],
   "source": [
    "# Plot training loss curves\n",
    "plt.figure(figsize=(12, 6))\n",
    "\n",
    "plt.subplot(1, 2, 1)\n",
    "plt.plot(random_train_losses, label='Random - Train')\n",
    "plt.plot(random_val_losses, label='Random - Val')\n",
    "plt.plot(pretrained_train_losses, label='Pretrained - Train')\n",
    "plt.plot(pretrained_val_losses, label='Pretrained - Val')\n",
    "plt.xlabel('Epoch')\n",
    "plt.ylabel('Loss')\n",
    "plt.title('Training and Validation Loss')\n",
    "plt.legend()\n",
    "\n",
    "plt.subplot(1, 2, 2)\n",
    "plt.bar(['Random Embeddings', 'Pretrained Embeddings'], \n",
    "        [random_test_perplexity, pretrained_test_perplexity])\n",
    "plt.ylabel('Perplexity')\n",
    "plt.title('Test Set Perplexity')\n",
    "\n",
    "plt.tight_layout()\n",
    "plt.savefig(VISUALIZATION_PATH)\n",
    "plt.show()"
   ]
  },
  {
   "cell_type": "code",
   "execution_count": 37,
   "metadata": {},
   "outputs": [
    {
     "name": "stdout",
     "output_type": "stream",
     "text": [
      "\n",
      "Generating sentences using greedy search:\n",
      "Prefix: 'Harry look'\n",
      "Generated: 'Harry look like a pig ! said Hermione angrily .I dont know what it meant .Xenophilius was'\n",
      "--------------------------------------------------\n",
      "Prefix: 'Hermione open'\n",
      "Generated: 'Hermione open ? said Ron who was now shoveling mashed potato into his face .I dont know'\n",
      "--------------------------------------------------\n",
      "Prefix: 'Ron run'\n",
      "Generated: 'Ron run ? said Ron who was now shoveling mashed potato into his face .I dont know'\n",
      "--------------------------------------------------\n",
      "Prefix: 'Magic is'\n",
      "Generated: 'Magic is ? said Harry quickly .Yep said Harry firmly .I dont know what hes doing said'\n",
      "--------------------------------------------------\n",
      "Prefix: 'Professor Dumbledore'\n",
      "Generated: 'Professor Dumbledore ? said Ron looking at the dense black boundary of the graveyard .He was a'\n",
      "--------------------------------------------------\n"
     ]
    }
   ],
   "source": [
    "print(\"\\nGenerating sentences using greedy search:\")\n",
    "prefixes = ['Harry look', 'Hermione open', 'Ron run', 'Magic is', 'Professor Dumbledore']\n",
    "\n",
    "for prefix in prefixes:\n",
    "    generated_text = generate_text_greedy(random_model, prefix, word_to_idx, idx_to_word, length=15)\n",
    "    print(f\"Prefix: '{prefix}'\")\n",
    "    print(f\"Generated: '{generated_text}'\")\n",
    "    print(\"-\" * 50)"
   ]
  },
  {
   "cell_type": "code",
   "execution_count": null,
   "metadata": {},
   "outputs": [],
   "source": []
  }
 ],
 "metadata": {
  "kernelspec": {
   "display_name": "wzh-py39",
   "language": "python",
   "name": "python3"
  },
  "language_info": {
   "codemirror_mode": {
    "name": "ipython",
    "version": 3
   },
   "file_extension": ".py",
   "mimetype": "text/x-python",
   "name": "python",
   "nbconvert_exporter": "python",
   "pygments_lexer": "ipython3",
   "version": "3.9.21"
  }
 },
 "nbformat": 4,
 "nbformat_minor": 2
}
